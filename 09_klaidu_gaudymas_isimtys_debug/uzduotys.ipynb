{
 "cells": [
  {
   "cell_type": "code",
   "execution_count": 4,
   "metadata": {},
   "outputs": [
    {
     "name": "stdout",
     "output_type": "stream",
     "text": [
      "Klaida, neteisingai įvesta reikšmė\n"
     ]
    }
   ],
   "source": [
    "try:\n",
    "    number1 = int(input('Įveskite pirmą reikšmę: '))\n",
    "    number2 = int(input('Įveskite antrą reikšmę: '))\n",
    "    rezultatas = number1 / number2\n",
    "except Exception:\n",
    "    print(\"Klaida, neteisingai įvesta reikšmė\")\n",
    "else:\n",
    "    print(\"Rezultatas yra:\", rezultatas)\n",
    "    "
   ]
  },
  {
   "cell_type": "code",
   "execution_count": 24,
   "metadata": {},
   "outputs": [
    {
     "name": "stdout",
     "output_type": "stream",
     "text": [
      "Error\n",
      "Ivestas teisingas skaicius\n"
     ]
    }
   ],
   "source": [
    "while True:\n",
    "    try: \n",
    "        ivestas_skaicius = float(input('Iveskyte prasom teigiama skaiciu'))\n",
    "        if ivestas_skaicius != 0 and ivestas_skaicius > 0:\n",
    "            raise ValueError(\"Ivestas neigiamas skaicius\")\n",
    "        else:\n",
    "            print('Ivestas teisingas skaicius')\n",
    "            break\n",
    "    except Exception as error:\n",
    "        print('Error')\n",
    "  \n",
    "    \n"
   ]
  }
 ],
 "metadata": {
  "kernelspec": {
   "display_name": "venv",
   "language": "python",
   "name": "python3"
  },
  "language_info": {
   "codemirror_mode": {
    "name": "ipython",
    "version": 3
   },
   "file_extension": ".py",
   "mimetype": "text/x-python",
   "name": "python",
   "nbconvert_exporter": "python",
   "pygments_lexer": "ipython3",
   "version": "3.12.1"
  }
 },
 "nbformat": 4,
 "nbformat_minor": 2
}
