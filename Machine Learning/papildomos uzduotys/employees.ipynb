{
 "cells": [
  {
   "cell_type": "code",
   "execution_count": 1,
   "metadata": {},
   "outputs": [],
   "source": [
    "import pandas as pd\n",
    "import numpy as np\n",
    "import seaborn as sns\n",
    "%matplotlib inline"
   ]
  },
  {
   "cell_type": "code",
   "execution_count": 2,
   "metadata": {},
   "outputs": [],
   "source": [
    "data = pd.read_csv('aug_train.csv')"
   ]
  },
  {
   "cell_type": "code",
   "execution_count": 3,
   "metadata": {},
   "outputs": [
    {
     "name": "stdout",
     "output_type": "stream",
     "text": [
      "<class 'pandas.core.frame.DataFrame'>\n",
      "RangeIndex: 19158 entries, 0 to 19157\n",
      "Data columns (total 14 columns):\n",
      " #   Column                  Non-Null Count  Dtype  \n",
      "---  ------                  --------------  -----  \n",
      " 0   enrollee_id             19158 non-null  int64  \n",
      " 1   city                    19158 non-null  object \n",
      " 2   city_development_index  19158 non-null  float64\n",
      " 3   gender                  14650 non-null  object \n",
      " 4   relevent_experience     19158 non-null  object \n",
      " 5   enrolled_university     18772 non-null  object \n",
      " 6   education_level         18698 non-null  object \n",
      " 7   major_discipline        16345 non-null  object \n",
      " 8   experience              19093 non-null  object \n",
      " 9   company_size            13220 non-null  object \n",
      " 10  company_type            13018 non-null  object \n",
      " 11  last_new_job            18735 non-null  object \n",
      " 12  training_hours          19158 non-null  int64  \n",
      " 13  target                  19158 non-null  float64\n",
      "dtypes: float64(2), int64(2), object(10)\n",
      "memory usage: 2.0+ MB\n"
     ]
    }
   ],
   "source": [
    "data.info()"
   ]
  },
  {
   "cell_type": "code",
   "execution_count": 4,
   "metadata": {},
   "outputs": [],
   "source": [
    "data.dropna(inplace=True)"
   ]
  },
  {
   "cell_type": "code",
   "execution_count": 5,
   "metadata": {},
   "outputs": [
    {
     "name": "stdout",
     "output_type": "stream",
     "text": [
      "<class 'pandas.core.frame.DataFrame'>\n",
      "Int64Index: 8955 entries, 1 to 19155\n",
      "Data columns (total 14 columns):\n",
      " #   Column                  Non-Null Count  Dtype  \n",
      "---  ------                  --------------  -----  \n",
      " 0   enrollee_id             8955 non-null   int64  \n",
      " 1   city                    8955 non-null   object \n",
      " 2   city_development_index  8955 non-null   float64\n",
      " 3   gender                  8955 non-null   object \n",
      " 4   relevent_experience     8955 non-null   object \n",
      " 5   enrolled_university     8955 non-null   object \n",
      " 6   education_level         8955 non-null   object \n",
      " 7   major_discipline        8955 non-null   object \n",
      " 8   experience              8955 non-null   object \n",
      " 9   company_size            8955 non-null   object \n",
      " 10  company_type            8955 non-null   object \n",
      " 11  last_new_job            8955 non-null   object \n",
      " 12  training_hours          8955 non-null   int64  \n",
      " 13  target                  8955 non-null   float64\n",
      "dtypes: float64(2), int64(2), object(10)\n",
      "memory usage: 1.0+ MB\n"
     ]
    }
   ],
   "source": [
    "data.info()"
   ]
  },
  {
   "cell_type": "code",
   "execution_count": 6,
   "metadata": {},
   "outputs": [
    {
     "data": {
      "text/html": [
       "<div>\n",
       "<style scoped>\n",
       "    .dataframe tbody tr th:only-of-type {\n",
       "        vertical-align: middle;\n",
       "    }\n",
       "\n",
       "    .dataframe tbody tr th {\n",
       "        vertical-align: top;\n",
       "    }\n",
       "\n",
       "    .dataframe thead th {\n",
       "        text-align: right;\n",
       "    }\n",
       "</style>\n",
       "<table border=\"1\" class=\"dataframe\">\n",
       "  <thead>\n",
       "    <tr style=\"text-align: right;\">\n",
       "      <th></th>\n",
       "      <th>enrollee_id</th>\n",
       "      <th>city</th>\n",
       "      <th>city_development_index</th>\n",
       "      <th>gender</th>\n",
       "      <th>relevent_experience</th>\n",
       "      <th>enrolled_university</th>\n",
       "      <th>education_level</th>\n",
       "      <th>major_discipline</th>\n",
       "      <th>experience</th>\n",
       "      <th>company_size</th>\n",
       "      <th>company_type</th>\n",
       "      <th>last_new_job</th>\n",
       "      <th>training_hours</th>\n",
       "      <th>target</th>\n",
       "    </tr>\n",
       "  </thead>\n",
       "  <tbody>\n",
       "    <tr>\n",
       "      <th>1</th>\n",
       "      <td>29725</td>\n",
       "      <td>city_40</td>\n",
       "      <td>0.776</td>\n",
       "      <td>Male</td>\n",
       "      <td>No relevent experience</td>\n",
       "      <td>no_enrollment</td>\n",
       "      <td>Graduate</td>\n",
       "      <td>STEM</td>\n",
       "      <td>15</td>\n",
       "      <td>50-99</td>\n",
       "      <td>Pvt Ltd</td>\n",
       "      <td>&gt;4</td>\n",
       "      <td>47</td>\n",
       "      <td>0.0</td>\n",
       "    </tr>\n",
       "    <tr>\n",
       "      <th>4</th>\n",
       "      <td>666</td>\n",
       "      <td>city_162</td>\n",
       "      <td>0.767</td>\n",
       "      <td>Male</td>\n",
       "      <td>Has relevent experience</td>\n",
       "      <td>no_enrollment</td>\n",
       "      <td>Masters</td>\n",
       "      <td>STEM</td>\n",
       "      <td>&gt;20</td>\n",
       "      <td>50-99</td>\n",
       "      <td>Funded Startup</td>\n",
       "      <td>4</td>\n",
       "      <td>8</td>\n",
       "      <td>0.0</td>\n",
       "    </tr>\n",
       "    <tr>\n",
       "      <th>7</th>\n",
       "      <td>402</td>\n",
       "      <td>city_46</td>\n",
       "      <td>0.762</td>\n",
       "      <td>Male</td>\n",
       "      <td>Has relevent experience</td>\n",
       "      <td>no_enrollment</td>\n",
       "      <td>Graduate</td>\n",
       "      <td>STEM</td>\n",
       "      <td>13</td>\n",
       "      <td>&lt;10</td>\n",
       "      <td>Pvt Ltd</td>\n",
       "      <td>&gt;4</td>\n",
       "      <td>18</td>\n",
       "      <td>1.0</td>\n",
       "    </tr>\n",
       "    <tr>\n",
       "      <th>8</th>\n",
       "      <td>27107</td>\n",
       "      <td>city_103</td>\n",
       "      <td>0.920</td>\n",
       "      <td>Male</td>\n",
       "      <td>Has relevent experience</td>\n",
       "      <td>no_enrollment</td>\n",
       "      <td>Graduate</td>\n",
       "      <td>STEM</td>\n",
       "      <td>7</td>\n",
       "      <td>50-99</td>\n",
       "      <td>Pvt Ltd</td>\n",
       "      <td>1</td>\n",
       "      <td>46</td>\n",
       "      <td>1.0</td>\n",
       "    </tr>\n",
       "    <tr>\n",
       "      <th>11</th>\n",
       "      <td>23853</td>\n",
       "      <td>city_103</td>\n",
       "      <td>0.920</td>\n",
       "      <td>Male</td>\n",
       "      <td>Has relevent experience</td>\n",
       "      <td>no_enrollment</td>\n",
       "      <td>Graduate</td>\n",
       "      <td>STEM</td>\n",
       "      <td>5</td>\n",
       "      <td>5000-9999</td>\n",
       "      <td>Pvt Ltd</td>\n",
       "      <td>1</td>\n",
       "      <td>108</td>\n",
       "      <td>0.0</td>\n",
       "    </tr>\n",
       "  </tbody>\n",
       "</table>\n",
       "</div>"
      ],
      "text/plain": [
       "    enrollee_id      city  city_development_index gender  \\\n",
       "1         29725   city_40                   0.776   Male   \n",
       "4           666  city_162                   0.767   Male   \n",
       "7           402   city_46                   0.762   Male   \n",
       "8         27107  city_103                   0.920   Male   \n",
       "11        23853  city_103                   0.920   Male   \n",
       "\n",
       "        relevent_experience enrolled_university education_level  \\\n",
       "1    No relevent experience       no_enrollment        Graduate   \n",
       "4   Has relevent experience       no_enrollment         Masters   \n",
       "7   Has relevent experience       no_enrollment        Graduate   \n",
       "8   Has relevent experience       no_enrollment        Graduate   \n",
       "11  Has relevent experience       no_enrollment        Graduate   \n",
       "\n",
       "   major_discipline experience company_size    company_type last_new_job  \\\n",
       "1              STEM         15        50-99         Pvt Ltd           >4   \n",
       "4              STEM        >20        50-99  Funded Startup            4   \n",
       "7              STEM         13          <10         Pvt Ltd           >4   \n",
       "8              STEM          7        50-99         Pvt Ltd            1   \n",
       "11             STEM          5    5000-9999         Pvt Ltd            1   \n",
       "\n",
       "    training_hours  target  \n",
       "1               47     0.0  \n",
       "4                8     0.0  \n",
       "7               18     1.0  \n",
       "8               46     1.0  \n",
       "11             108     0.0  "
      ]
     },
     "execution_count": 6,
     "metadata": {},
     "output_type": "execute_result"
    }
   ],
   "source": [
    "data.head()"
   ]
  },
  {
   "cell_type": "code",
   "execution_count": 7,
   "metadata": {},
   "outputs": [],
   "source": [
    "data.drop('enrollee_id', 1, inplace=True)"
   ]
  },
  {
   "cell_type": "code",
   "execution_count": 8,
   "metadata": {},
   "outputs": [
    {
     "data": {
      "text/html": [
       "<div>\n",
       "<style scoped>\n",
       "    .dataframe tbody tr th:only-of-type {\n",
       "        vertical-align: middle;\n",
       "    }\n",
       "\n",
       "    .dataframe tbody tr th {\n",
       "        vertical-align: top;\n",
       "    }\n",
       "\n",
       "    .dataframe thead th {\n",
       "        text-align: right;\n",
       "    }\n",
       "</style>\n",
       "<table border=\"1\" class=\"dataframe\">\n",
       "  <thead>\n",
       "    <tr style=\"text-align: right;\">\n",
       "      <th></th>\n",
       "      <th>city</th>\n",
       "      <th>city_development_index</th>\n",
       "      <th>gender</th>\n",
       "      <th>relevent_experience</th>\n",
       "      <th>enrolled_university</th>\n",
       "      <th>education_level</th>\n",
       "      <th>major_discipline</th>\n",
       "      <th>experience</th>\n",
       "      <th>company_size</th>\n",
       "      <th>company_type</th>\n",
       "      <th>last_new_job</th>\n",
       "      <th>training_hours</th>\n",
       "      <th>target</th>\n",
       "    </tr>\n",
       "  </thead>\n",
       "  <tbody>\n",
       "    <tr>\n",
       "      <th>1</th>\n",
       "      <td>city_40</td>\n",
       "      <td>0.776</td>\n",
       "      <td>Male</td>\n",
       "      <td>No relevent experience</td>\n",
       "      <td>no_enrollment</td>\n",
       "      <td>Graduate</td>\n",
       "      <td>STEM</td>\n",
       "      <td>15</td>\n",
       "      <td>50-99</td>\n",
       "      <td>Pvt Ltd</td>\n",
       "      <td>&gt;4</td>\n",
       "      <td>47</td>\n",
       "      <td>0.0</td>\n",
       "    </tr>\n",
       "    <tr>\n",
       "      <th>4</th>\n",
       "      <td>city_162</td>\n",
       "      <td>0.767</td>\n",
       "      <td>Male</td>\n",
       "      <td>Has relevent experience</td>\n",
       "      <td>no_enrollment</td>\n",
       "      <td>Masters</td>\n",
       "      <td>STEM</td>\n",
       "      <td>&gt;20</td>\n",
       "      <td>50-99</td>\n",
       "      <td>Funded Startup</td>\n",
       "      <td>4</td>\n",
       "      <td>8</td>\n",
       "      <td>0.0</td>\n",
       "    </tr>\n",
       "    <tr>\n",
       "      <th>7</th>\n",
       "      <td>city_46</td>\n",
       "      <td>0.762</td>\n",
       "      <td>Male</td>\n",
       "      <td>Has relevent experience</td>\n",
       "      <td>no_enrollment</td>\n",
       "      <td>Graduate</td>\n",
       "      <td>STEM</td>\n",
       "      <td>13</td>\n",
       "      <td>&lt;10</td>\n",
       "      <td>Pvt Ltd</td>\n",
       "      <td>&gt;4</td>\n",
       "      <td>18</td>\n",
       "      <td>1.0</td>\n",
       "    </tr>\n",
       "    <tr>\n",
       "      <th>8</th>\n",
       "      <td>city_103</td>\n",
       "      <td>0.920</td>\n",
       "      <td>Male</td>\n",
       "      <td>Has relevent experience</td>\n",
       "      <td>no_enrollment</td>\n",
       "      <td>Graduate</td>\n",
       "      <td>STEM</td>\n",
       "      <td>7</td>\n",
       "      <td>50-99</td>\n",
       "      <td>Pvt Ltd</td>\n",
       "      <td>1</td>\n",
       "      <td>46</td>\n",
       "      <td>1.0</td>\n",
       "    </tr>\n",
       "    <tr>\n",
       "      <th>11</th>\n",
       "      <td>city_103</td>\n",
       "      <td>0.920</td>\n",
       "      <td>Male</td>\n",
       "      <td>Has relevent experience</td>\n",
       "      <td>no_enrollment</td>\n",
       "      <td>Graduate</td>\n",
       "      <td>STEM</td>\n",
       "      <td>5</td>\n",
       "      <td>5000-9999</td>\n",
       "      <td>Pvt Ltd</td>\n",
       "      <td>1</td>\n",
       "      <td>108</td>\n",
       "      <td>0.0</td>\n",
       "    </tr>\n",
       "  </tbody>\n",
       "</table>\n",
       "</div>"
      ],
      "text/plain": [
       "        city  city_development_index gender      relevent_experience  \\\n",
       "1    city_40                   0.776   Male   No relevent experience   \n",
       "4   city_162                   0.767   Male  Has relevent experience   \n",
       "7    city_46                   0.762   Male  Has relevent experience   \n",
       "8   city_103                   0.920   Male  Has relevent experience   \n",
       "11  city_103                   0.920   Male  Has relevent experience   \n",
       "\n",
       "   enrolled_university education_level major_discipline experience  \\\n",
       "1        no_enrollment        Graduate             STEM         15   \n",
       "4        no_enrollment         Masters             STEM        >20   \n",
       "7        no_enrollment        Graduate             STEM         13   \n",
       "8        no_enrollment        Graduate             STEM          7   \n",
       "11       no_enrollment        Graduate             STEM          5   \n",
       "\n",
       "   company_size    company_type last_new_job  training_hours  target  \n",
       "1         50-99         Pvt Ltd           >4              47     0.0  \n",
       "4         50-99  Funded Startup            4               8     0.0  \n",
       "7           <10         Pvt Ltd           >4              18     1.0  \n",
       "8         50-99         Pvt Ltd            1              46     1.0  \n",
       "11    5000-9999         Pvt Ltd            1             108     0.0  "
      ]
     },
     "execution_count": 8,
     "metadata": {},
     "output_type": "execute_result"
    }
   ],
   "source": [
    "data.head()"
   ]
  },
  {
   "cell_type": "code",
   "execution_count": 9,
   "metadata": {},
   "outputs": [
    {
     "data": {
      "text/plain": [
       "(8955, 13)"
      ]
     },
     "execution_count": 9,
     "metadata": {},
     "output_type": "execute_result"
    }
   ],
   "source": [
    "data.shape"
   ]
  },
  {
   "cell_type": "code",
   "execution_count": 10,
   "metadata": {},
   "outputs": [
    {
     "data": {
      "text/plain": [
       "array(['city_40', 'city_162', 'city_46', 'city_103', 'city_61',\n",
       "       'city_114', 'city_159', 'city_21', 'city_160', 'city_16',\n",
       "       'city_83', 'city_64', 'city_105', 'city_104', 'city_73', 'city_75',\n",
       "       'city_100', 'city_93', 'city_67', 'city_13', 'city_36', 'city_71',\n",
       "       'city_57', 'city_65', 'city_11', 'city_136', 'city_97', 'city_50',\n",
       "       'city_173', 'city_82', 'city_89', 'city_150', 'city_90', 'city_98',\n",
       "       'city_28', 'city_115', 'city_94', 'city_165', 'city_142',\n",
       "       'city_12', 'city_43', 'city_74', 'city_102', 'city_116', 'city_99',\n",
       "       'city_23', 'city_138', 'city_45', 'city_41', 'city_72', 'city_19',\n",
       "       'city_101', 'city_20', 'city_106', 'city_10', 'city_157',\n",
       "       'city_144', 'city_91', 'city_133', 'city_145', 'city_123',\n",
       "       'city_175', 'city_128', 'city_167', 'city_84', 'city_54',\n",
       "       'city_126', 'city_81', 'city_176', 'city_131', 'city_149',\n",
       "       'city_24', 'city_27', 'city_118', 'city_152', 'city_141',\n",
       "       'city_76', 'city_70', 'city_143', 'city_78', 'city_53', 'city_158',\n",
       "       'city_2', 'city_77', 'city_117', 'city_120', 'city_9', 'city_39',\n",
       "       'city_80', 'city_155', 'city_179', 'city_37', 'city_30', 'city_44',\n",
       "       'city_14', 'city_55', 'city_42', 'city_1', 'city_59', 'city_69',\n",
       "       'city_7', 'city_109', 'city_26', 'city_62', 'city_18', 'city_127',\n",
       "       'city_33', 'city_134', 'city_146', 'city_107', 'city_166',\n",
       "       'city_121', 'city_129', 'city_48', 'city_139', 'city_25'],\n",
       "      dtype=object)"
      ]
     },
     "execution_count": 10,
     "metadata": {},
     "output_type": "execute_result"
    }
   ],
   "source": [
    "data['city'].unique()"
   ]
  },
  {
   "cell_type": "code",
   "execution_count": 11,
   "metadata": {},
   "outputs": [],
   "source": [
    "data.drop('city', 1, inplace=True)"
   ]
  },
  {
   "cell_type": "code",
   "execution_count": 12,
   "metadata": {},
   "outputs": [
    {
     "data": {
      "text/plain": [
       "(8955, 12)"
      ]
     },
     "execution_count": 12,
     "metadata": {},
     "output_type": "execute_result"
    }
   ],
   "source": [
    "data.shape"
   ]
  },
  {
   "cell_type": "code",
   "execution_count": 13,
   "metadata": {},
   "outputs": [
    {
     "data": {
      "text/html": [
       "<div>\n",
       "<style scoped>\n",
       "    .dataframe tbody tr th:only-of-type {\n",
       "        vertical-align: middle;\n",
       "    }\n",
       "\n",
       "    .dataframe tbody tr th {\n",
       "        vertical-align: top;\n",
       "    }\n",
       "\n",
       "    .dataframe thead th {\n",
       "        text-align: right;\n",
       "    }\n",
       "</style>\n",
       "<table border=\"1\" class=\"dataframe\">\n",
       "  <thead>\n",
       "    <tr style=\"text-align: right;\">\n",
       "      <th></th>\n",
       "      <th>city_development_index</th>\n",
       "      <th>gender</th>\n",
       "      <th>relevent_experience</th>\n",
       "      <th>enrolled_university</th>\n",
       "      <th>education_level</th>\n",
       "      <th>major_discipline</th>\n",
       "      <th>experience</th>\n",
       "      <th>company_size</th>\n",
       "      <th>company_type</th>\n",
       "      <th>last_new_job</th>\n",
       "      <th>training_hours</th>\n",
       "      <th>target</th>\n",
       "    </tr>\n",
       "  </thead>\n",
       "  <tbody>\n",
       "    <tr>\n",
       "      <th>1</th>\n",
       "      <td>0.776</td>\n",
       "      <td>Male</td>\n",
       "      <td>No relevent experience</td>\n",
       "      <td>no_enrollment</td>\n",
       "      <td>Graduate</td>\n",
       "      <td>STEM</td>\n",
       "      <td>15</td>\n",
       "      <td>50-99</td>\n",
       "      <td>Pvt Ltd</td>\n",
       "      <td>&gt;4</td>\n",
       "      <td>47</td>\n",
       "      <td>0.0</td>\n",
       "    </tr>\n",
       "    <tr>\n",
       "      <th>4</th>\n",
       "      <td>0.767</td>\n",
       "      <td>Male</td>\n",
       "      <td>Has relevent experience</td>\n",
       "      <td>no_enrollment</td>\n",
       "      <td>Masters</td>\n",
       "      <td>STEM</td>\n",
       "      <td>&gt;20</td>\n",
       "      <td>50-99</td>\n",
       "      <td>Funded Startup</td>\n",
       "      <td>4</td>\n",
       "      <td>8</td>\n",
       "      <td>0.0</td>\n",
       "    </tr>\n",
       "    <tr>\n",
       "      <th>7</th>\n",
       "      <td>0.762</td>\n",
       "      <td>Male</td>\n",
       "      <td>Has relevent experience</td>\n",
       "      <td>no_enrollment</td>\n",
       "      <td>Graduate</td>\n",
       "      <td>STEM</td>\n",
       "      <td>13</td>\n",
       "      <td>&lt;10</td>\n",
       "      <td>Pvt Ltd</td>\n",
       "      <td>&gt;4</td>\n",
       "      <td>18</td>\n",
       "      <td>1.0</td>\n",
       "    </tr>\n",
       "    <tr>\n",
       "      <th>8</th>\n",
       "      <td>0.920</td>\n",
       "      <td>Male</td>\n",
       "      <td>Has relevent experience</td>\n",
       "      <td>no_enrollment</td>\n",
       "      <td>Graduate</td>\n",
       "      <td>STEM</td>\n",
       "      <td>7</td>\n",
       "      <td>50-99</td>\n",
       "      <td>Pvt Ltd</td>\n",
       "      <td>1</td>\n",
       "      <td>46</td>\n",
       "      <td>1.0</td>\n",
       "    </tr>\n",
       "    <tr>\n",
       "      <th>11</th>\n",
       "      <td>0.920</td>\n",
       "      <td>Male</td>\n",
       "      <td>Has relevent experience</td>\n",
       "      <td>no_enrollment</td>\n",
       "      <td>Graduate</td>\n",
       "      <td>STEM</td>\n",
       "      <td>5</td>\n",
       "      <td>5000-9999</td>\n",
       "      <td>Pvt Ltd</td>\n",
       "      <td>1</td>\n",
       "      <td>108</td>\n",
       "      <td>0.0</td>\n",
       "    </tr>\n",
       "  </tbody>\n",
       "</table>\n",
       "</div>"
      ],
      "text/plain": [
       "    city_development_index gender      relevent_experience  \\\n",
       "1                    0.776   Male   No relevent experience   \n",
       "4                    0.767   Male  Has relevent experience   \n",
       "7                    0.762   Male  Has relevent experience   \n",
       "8                    0.920   Male  Has relevent experience   \n",
       "11                   0.920   Male  Has relevent experience   \n",
       "\n",
       "   enrolled_university education_level major_discipline experience  \\\n",
       "1        no_enrollment        Graduate             STEM         15   \n",
       "4        no_enrollment         Masters             STEM        >20   \n",
       "7        no_enrollment        Graduate             STEM         13   \n",
       "8        no_enrollment        Graduate             STEM          7   \n",
       "11       no_enrollment        Graduate             STEM          5   \n",
       "\n",
       "   company_size    company_type last_new_job  training_hours  target  \n",
       "1         50-99         Pvt Ltd           >4              47     0.0  \n",
       "4         50-99  Funded Startup            4               8     0.0  \n",
       "7           <10         Pvt Ltd           >4              18     1.0  \n",
       "8         50-99         Pvt Ltd            1              46     1.0  \n",
       "11    5000-9999         Pvt Ltd            1             108     0.0  "
      ]
     },
     "execution_count": 13,
     "metadata": {},
     "output_type": "execute_result"
    }
   ],
   "source": [
    "data.head()"
   ]
  },
  {
   "cell_type": "code",
   "execution_count": 14,
   "metadata": {},
   "outputs": [
    {
     "data": {
      "text/plain": [
       "3"
      ]
     },
     "execution_count": 14,
     "metadata": {},
     "output_type": "execute_result"
    }
   ],
   "source": [
    "data['gender'].nunique()"
   ]
  },
  {
   "cell_type": "code",
   "execution_count": 15,
   "metadata": {},
   "outputs": [
    {
     "data": {
      "text/plain": [
       "2"
      ]
     },
     "execution_count": 15,
     "metadata": {},
     "output_type": "execute_result"
    }
   ],
   "source": [
    "data['relevent_experience'].nunique()"
   ]
  },
  {
   "cell_type": "code",
   "execution_count": 16,
   "metadata": {},
   "outputs": [
    {
     "data": {
      "text/plain": [
       "3"
      ]
     },
     "execution_count": 16,
     "metadata": {},
     "output_type": "execute_result"
    }
   ],
   "source": [
    "data['enrolled_university'].nunique()"
   ]
  },
  {
   "cell_type": "code",
   "execution_count": 17,
   "metadata": {},
   "outputs": [
    {
     "data": {
      "text/plain": [
       "3"
      ]
     },
     "execution_count": 17,
     "metadata": {},
     "output_type": "execute_result"
    }
   ],
   "source": [
    "data['education_level'].nunique()"
   ]
  },
  {
   "cell_type": "code",
   "execution_count": 18,
   "metadata": {},
   "outputs": [
    {
     "data": {
      "text/plain": [
       "6"
      ]
     },
     "execution_count": 18,
     "metadata": {},
     "output_type": "execute_result"
    }
   ],
   "source": [
    "data['major_discipline'].nunique()"
   ]
  },
  {
   "cell_type": "code",
   "execution_count": 19,
   "metadata": {},
   "outputs": [
    {
     "data": {
      "text/plain": [
       ">20    1881\n",
       "5       575\n",
       "10      551\n",
       "6       535\n",
       "9       533\n",
       "7       485\n",
       "4       480\n",
       "3       428\n",
       "15      398\n",
       "8       398\n",
       "11      372\n",
       "14      333\n",
       "16      304\n",
       "2       297\n",
       "12      293\n",
       "13      235\n",
       "17      206\n",
       "19      179\n",
       "18      168\n",
       "1       121\n",
       "<1       97\n",
       "20       86\n",
       "Name: experience, dtype: int64"
      ]
     },
     "execution_count": 19,
     "metadata": {},
     "output_type": "execute_result"
    }
   ],
   "source": [
    "data['experience'].value_counts()"
   ]
  },
  {
   "cell_type": "code",
   "execution_count": 20,
   "metadata": {},
   "outputs": [
    {
     "data": {
      "text/plain": [
       "<class 'str'>    8955\n",
       "Name: experience, dtype: int64"
      ]
     },
     "execution_count": 20,
     "metadata": {},
     "output_type": "execute_result"
    }
   ],
   "source": [
    "data['experience'].map(type).value_counts()"
   ]
  },
  {
   "cell_type": "code",
   "execution_count": 21,
   "metadata": {},
   "outputs": [
    {
     "data": {
      "text/plain": [
       "50-99        1986\n",
       "100-500      1814\n",
       "10000+       1449\n",
       "10/49         951\n",
       "1000-4999     930\n",
       "<10           840\n",
       "500-999       592\n",
       "5000-9999     393\n",
       "Name: company_size, dtype: int64"
      ]
     },
     "execution_count": 21,
     "metadata": {},
     "output_type": "execute_result"
    }
   ],
   "source": [
    "data['company_size'].value_counts()"
   ]
  },
  {
   "cell_type": "code",
   "execution_count": 22,
   "metadata": {},
   "outputs": [
    {
     "data": {
      "text/plain": [
       "<class 'str'>    8955\n",
       "Name: company_size, dtype: int64"
      ]
     },
     "execution_count": 22,
     "metadata": {},
     "output_type": "execute_result"
    }
   ],
   "source": [
    "data['company_size'].map(type).value_counts()"
   ]
  },
  {
   "cell_type": "code",
   "execution_count": 23,
   "metadata": {},
   "outputs": [
    {
     "data": {
      "text/plain": [
       "Pvt Ltd                6794\n",
       "Funded Startup          784\n",
       "Public Sector           564\n",
       "Early Stage Startup     385\n",
       "NGO                     356\n",
       "Other                    72\n",
       "Name: company_type, dtype: int64"
      ]
     },
     "execution_count": 23,
     "metadata": {},
     "output_type": "execute_result"
    }
   ],
   "source": [
    "data['company_type'].value_counts()"
   ]
  },
  {
   "cell_type": "code",
   "execution_count": 24,
   "metadata": {},
   "outputs": [
    {
     "data": {
      "text/plain": [
       "array(['>4', '4', '1', '3', '2', 'never'], dtype=object)"
      ]
     },
     "execution_count": 24,
     "metadata": {},
     "output_type": "execute_result"
    }
   ],
   "source": [
    "data['last_new_job'].unique()"
   ]
  },
  {
   "cell_type": "code",
   "execution_count": 25,
   "metadata": {},
   "outputs": [
    {
     "data": {
      "text/plain": [
       "1         47\n",
       "4          8\n",
       "7         18\n",
       "8         46\n",
       "11       108\n",
       "        ... \n",
       "19147     52\n",
       "19149     36\n",
       "19150     23\n",
       "19152     25\n",
       "19155     44\n",
       "Name: training_hours, Length: 8955, dtype: int64"
      ]
     },
     "execution_count": 25,
     "metadata": {},
     "output_type": "execute_result"
    }
   ],
   "source": [
    "data['training_hours']"
   ]
  },
  {
   "cell_type": "code",
   "execution_count": 26,
   "metadata": {},
   "outputs": [
    {
     "data": {
      "text/plain": [
       "<class 'int'>    8955\n",
       "Name: training_hours, dtype: int64"
      ]
     },
     "execution_count": 26,
     "metadata": {},
     "output_type": "execute_result"
    }
   ],
   "source": [
    "data['training_hours'].map(type).value_counts()"
   ]
  },
  {
   "cell_type": "code",
   "execution_count": 27,
   "metadata": {},
   "outputs": [
    {
     "data": {
      "text/plain": [
       "(8955, 12)"
      ]
     },
     "execution_count": 27,
     "metadata": {},
     "output_type": "execute_result"
    }
   ],
   "source": [
    "data.shape"
   ]
  },
  {
   "cell_type": "code",
   "execution_count": 28,
   "metadata": {},
   "outputs": [],
   "source": [
    "df = pd.get_dummies(data, columns=[\"gender\", 'enrolled_university', 'education_level', 'major_discipline', 'company_size', 'company_type', 'last_new_job'])"
   ]
  },
  {
   "cell_type": "code",
   "execution_count": 29,
   "metadata": {},
   "outputs": [
    {
     "name": "stdout",
     "output_type": "stream",
     "text": [
      "<class 'pandas.core.frame.DataFrame'>\n",
      "Int64Index: 8955 entries, 1 to 19155\n",
      "Data columns (total 40 columns):\n",
      " #   Column                                Non-Null Count  Dtype  \n",
      "---  ------                                --------------  -----  \n",
      " 0   city_development_index                8955 non-null   float64\n",
      " 1   relevent_experience                   8955 non-null   object \n",
      " 2   experience                            8955 non-null   object \n",
      " 3   training_hours                        8955 non-null   int64  \n",
      " 4   target                                8955 non-null   float64\n",
      " 5   gender_Female                         8955 non-null   uint8  \n",
      " 6   gender_Male                           8955 non-null   uint8  \n",
      " 7   gender_Other                          8955 non-null   uint8  \n",
      " 8   enrolled_university_Full time course  8955 non-null   uint8  \n",
      " 9   enrolled_university_Part time course  8955 non-null   uint8  \n",
      " 10  enrolled_university_no_enrollment     8955 non-null   uint8  \n",
      " 11  education_level_Graduate              8955 non-null   uint8  \n",
      " 12  education_level_Masters               8955 non-null   uint8  \n",
      " 13  education_level_Phd                   8955 non-null   uint8  \n",
      " 14  major_discipline_Arts                 8955 non-null   uint8  \n",
      " 15  major_discipline_Business Degree      8955 non-null   uint8  \n",
      " 16  major_discipline_Humanities           8955 non-null   uint8  \n",
      " 17  major_discipline_No Major             8955 non-null   uint8  \n",
      " 18  major_discipline_Other                8955 non-null   uint8  \n",
      " 19  major_discipline_STEM                 8955 non-null   uint8  \n",
      " 20  company_size_10/49                    8955 non-null   uint8  \n",
      " 21  company_size_100-500                  8955 non-null   uint8  \n",
      " 22  company_size_1000-4999                8955 non-null   uint8  \n",
      " 23  company_size_10000+                   8955 non-null   uint8  \n",
      " 24  company_size_50-99                    8955 non-null   uint8  \n",
      " 25  company_size_500-999                  8955 non-null   uint8  \n",
      " 26  company_size_5000-9999                8955 non-null   uint8  \n",
      " 27  company_size_<10                      8955 non-null   uint8  \n",
      " 28  company_type_Early Stage Startup      8955 non-null   uint8  \n",
      " 29  company_type_Funded Startup           8955 non-null   uint8  \n",
      " 30  company_type_NGO                      8955 non-null   uint8  \n",
      " 31  company_type_Other                    8955 non-null   uint8  \n",
      " 32  company_type_Public Sector            8955 non-null   uint8  \n",
      " 33  company_type_Pvt Ltd                  8955 non-null   uint8  \n",
      " 34  last_new_job_1                        8955 non-null   uint8  \n",
      " 35  last_new_job_2                        8955 non-null   uint8  \n",
      " 36  last_new_job_3                        8955 non-null   uint8  \n",
      " 37  last_new_job_4                        8955 non-null   uint8  \n",
      " 38  last_new_job_>4                       8955 non-null   uint8  \n",
      " 39  last_new_job_never                    8955 non-null   uint8  \n",
      "dtypes: float64(2), int64(1), object(2), uint8(35)\n",
      "memory usage: 725.8+ KB\n"
     ]
    }
   ],
   "source": [
    "df.info()"
   ]
  },
  {
   "cell_type": "code",
   "execution_count": 30,
   "metadata": {},
   "outputs": [
    {
     "data": {
      "text/plain": [
       "1         47\n",
       "4          8\n",
       "7         18\n",
       "8         46\n",
       "11       108\n",
       "        ... \n",
       "19147     52\n",
       "19149     36\n",
       "19150     23\n",
       "19152     25\n",
       "19155     44\n",
       "Name: training_hours, Length: 8955, dtype: int64"
      ]
     },
     "execution_count": 30,
     "metadata": {},
     "output_type": "execute_result"
    }
   ],
   "source": [
    "data['training_hours']\n"
   ]
  },
  {
   "cell_type": "code",
   "execution_count": 31,
   "metadata": {},
   "outputs": [
    {
     "data": {
      "text/plain": [
       "241"
      ]
     },
     "execution_count": 31,
     "metadata": {},
     "output_type": "execute_result"
    }
   ],
   "source": [
    "data['training_hours'].nunique()"
   ]
  },
  {
   "cell_type": "code",
   "execution_count": 32,
   "metadata": {},
   "outputs": [
    {
     "data": {
      "text/html": [
       "<div>\n",
       "<style scoped>\n",
       "    .dataframe tbody tr th:only-of-type {\n",
       "        vertical-align: middle;\n",
       "    }\n",
       "\n",
       "    .dataframe tbody tr th {\n",
       "        vertical-align: top;\n",
       "    }\n",
       "\n",
       "    .dataframe thead th {\n",
       "        text-align: right;\n",
       "    }\n",
       "</style>\n",
       "<table border=\"1\" class=\"dataframe\">\n",
       "  <thead>\n",
       "    <tr style=\"text-align: right;\">\n",
       "      <th></th>\n",
       "      <th>city_development_index</th>\n",
       "      <th>relevent_experience</th>\n",
       "      <th>experience</th>\n",
       "      <th>training_hours</th>\n",
       "      <th>target</th>\n",
       "      <th>gender_Female</th>\n",
       "      <th>gender_Male</th>\n",
       "      <th>gender_Other</th>\n",
       "      <th>enrolled_university_Full time course</th>\n",
       "      <th>enrolled_university_Part time course</th>\n",
       "      <th>...</th>\n",
       "      <th>company_type_NGO</th>\n",
       "      <th>company_type_Other</th>\n",
       "      <th>company_type_Public Sector</th>\n",
       "      <th>company_type_Pvt Ltd</th>\n",
       "      <th>last_new_job_1</th>\n",
       "      <th>last_new_job_2</th>\n",
       "      <th>last_new_job_3</th>\n",
       "      <th>last_new_job_4</th>\n",
       "      <th>last_new_job_&gt;4</th>\n",
       "      <th>last_new_job_never</th>\n",
       "    </tr>\n",
       "  </thead>\n",
       "  <tbody>\n",
       "    <tr>\n",
       "      <th>1</th>\n",
       "      <td>0.776</td>\n",
       "      <td>No relevent experience</td>\n",
       "      <td>15</td>\n",
       "      <td>47</td>\n",
       "      <td>0.0</td>\n",
       "      <td>0</td>\n",
       "      <td>1</td>\n",
       "      <td>0</td>\n",
       "      <td>0</td>\n",
       "      <td>0</td>\n",
       "      <td>...</td>\n",
       "      <td>0</td>\n",
       "      <td>0</td>\n",
       "      <td>0</td>\n",
       "      <td>1</td>\n",
       "      <td>0</td>\n",
       "      <td>0</td>\n",
       "      <td>0</td>\n",
       "      <td>0</td>\n",
       "      <td>1</td>\n",
       "      <td>0</td>\n",
       "    </tr>\n",
       "    <tr>\n",
       "      <th>4</th>\n",
       "      <td>0.767</td>\n",
       "      <td>Has relevent experience</td>\n",
       "      <td>&gt;20</td>\n",
       "      <td>8</td>\n",
       "      <td>0.0</td>\n",
       "      <td>0</td>\n",
       "      <td>1</td>\n",
       "      <td>0</td>\n",
       "      <td>0</td>\n",
       "      <td>0</td>\n",
       "      <td>...</td>\n",
       "      <td>0</td>\n",
       "      <td>0</td>\n",
       "      <td>0</td>\n",
       "      <td>0</td>\n",
       "      <td>0</td>\n",
       "      <td>0</td>\n",
       "      <td>0</td>\n",
       "      <td>1</td>\n",
       "      <td>0</td>\n",
       "      <td>0</td>\n",
       "    </tr>\n",
       "    <tr>\n",
       "      <th>7</th>\n",
       "      <td>0.762</td>\n",
       "      <td>Has relevent experience</td>\n",
       "      <td>13</td>\n",
       "      <td>18</td>\n",
       "      <td>1.0</td>\n",
       "      <td>0</td>\n",
       "      <td>1</td>\n",
       "      <td>0</td>\n",
       "      <td>0</td>\n",
       "      <td>0</td>\n",
       "      <td>...</td>\n",
       "      <td>0</td>\n",
       "      <td>0</td>\n",
       "      <td>0</td>\n",
       "      <td>1</td>\n",
       "      <td>0</td>\n",
       "      <td>0</td>\n",
       "      <td>0</td>\n",
       "      <td>0</td>\n",
       "      <td>1</td>\n",
       "      <td>0</td>\n",
       "    </tr>\n",
       "    <tr>\n",
       "      <th>8</th>\n",
       "      <td>0.920</td>\n",
       "      <td>Has relevent experience</td>\n",
       "      <td>7</td>\n",
       "      <td>46</td>\n",
       "      <td>1.0</td>\n",
       "      <td>0</td>\n",
       "      <td>1</td>\n",
       "      <td>0</td>\n",
       "      <td>0</td>\n",
       "      <td>0</td>\n",
       "      <td>...</td>\n",
       "      <td>0</td>\n",
       "      <td>0</td>\n",
       "      <td>0</td>\n",
       "      <td>1</td>\n",
       "      <td>1</td>\n",
       "      <td>0</td>\n",
       "      <td>0</td>\n",
       "      <td>0</td>\n",
       "      <td>0</td>\n",
       "      <td>0</td>\n",
       "    </tr>\n",
       "    <tr>\n",
       "      <th>11</th>\n",
       "      <td>0.920</td>\n",
       "      <td>Has relevent experience</td>\n",
       "      <td>5</td>\n",
       "      <td>108</td>\n",
       "      <td>0.0</td>\n",
       "      <td>0</td>\n",
       "      <td>1</td>\n",
       "      <td>0</td>\n",
       "      <td>0</td>\n",
       "      <td>0</td>\n",
       "      <td>...</td>\n",
       "      <td>0</td>\n",
       "      <td>0</td>\n",
       "      <td>0</td>\n",
       "      <td>1</td>\n",
       "      <td>1</td>\n",
       "      <td>0</td>\n",
       "      <td>0</td>\n",
       "      <td>0</td>\n",
       "      <td>0</td>\n",
       "      <td>0</td>\n",
       "    </tr>\n",
       "  </tbody>\n",
       "</table>\n",
       "<p>5 rows × 40 columns</p>\n",
       "</div>"
      ],
      "text/plain": [
       "    city_development_index      relevent_experience experience  \\\n",
       "1                    0.776   No relevent experience         15   \n",
       "4                    0.767  Has relevent experience        >20   \n",
       "7                    0.762  Has relevent experience         13   \n",
       "8                    0.920  Has relevent experience          7   \n",
       "11                   0.920  Has relevent experience          5   \n",
       "\n",
       "    training_hours  target  gender_Female  gender_Male  gender_Other  \\\n",
       "1               47     0.0              0            1             0   \n",
       "4                8     0.0              0            1             0   \n",
       "7               18     1.0              0            1             0   \n",
       "8               46     1.0              0            1             0   \n",
       "11             108     0.0              0            1             0   \n",
       "\n",
       "    enrolled_university_Full time course  \\\n",
       "1                                      0   \n",
       "4                                      0   \n",
       "7                                      0   \n",
       "8                                      0   \n",
       "11                                     0   \n",
       "\n",
       "    enrolled_university_Part time course  ...  company_type_NGO  \\\n",
       "1                                      0  ...                 0   \n",
       "4                                      0  ...                 0   \n",
       "7                                      0  ...                 0   \n",
       "8                                      0  ...                 0   \n",
       "11                                     0  ...                 0   \n",
       "\n",
       "    company_type_Other  company_type_Public Sector  company_type_Pvt Ltd  \\\n",
       "1                    0                           0                     1   \n",
       "4                    0                           0                     0   \n",
       "7                    0                           0                     1   \n",
       "8                    0                           0                     1   \n",
       "11                   0                           0                     1   \n",
       "\n",
       "    last_new_job_1  last_new_job_2  last_new_job_3  last_new_job_4  \\\n",
       "1                0               0               0               0   \n",
       "4                0               0               0               1   \n",
       "7                0               0               0               0   \n",
       "8                1               0               0               0   \n",
       "11               1               0               0               0   \n",
       "\n",
       "    last_new_job_>4  last_new_job_never  \n",
       "1                 1                   0  \n",
       "4                 0                   0  \n",
       "7                 1                   0  \n",
       "8                 0                   0  \n",
       "11                0                   0  \n",
       "\n",
       "[5 rows x 40 columns]"
      ]
     },
     "execution_count": 32,
     "metadata": {},
     "output_type": "execute_result"
    }
   ],
   "source": [
    "df.head()"
   ]
  },
  {
   "cell_type": "code",
   "execution_count": 33,
   "metadata": {},
   "outputs": [],
   "source": [
    "df['relevent_experience'] = df['relevent_experience'].astype('category')"
   ]
  },
  {
   "cell_type": "code",
   "execution_count": 34,
   "metadata": {},
   "outputs": [
    {
     "name": "stdout",
     "output_type": "stream",
     "text": [
      "<class 'pandas.core.frame.DataFrame'>\n",
      "Int64Index: 8955 entries, 1 to 19155\n",
      "Data columns (total 40 columns):\n",
      " #   Column                                Non-Null Count  Dtype   \n",
      "---  ------                                --------------  -----   \n",
      " 0   city_development_index                8955 non-null   float64 \n",
      " 1   relevent_experience                   8955 non-null   category\n",
      " 2   experience                            8955 non-null   object  \n",
      " 3   training_hours                        8955 non-null   int64   \n",
      " 4   target                                8955 non-null   float64 \n",
      " 5   gender_Female                         8955 non-null   uint8   \n",
      " 6   gender_Male                           8955 non-null   uint8   \n",
      " 7   gender_Other                          8955 non-null   uint8   \n",
      " 8   enrolled_university_Full time course  8955 non-null   uint8   \n",
      " 9   enrolled_university_Part time course  8955 non-null   uint8   \n",
      " 10  enrolled_university_no_enrollment     8955 non-null   uint8   \n",
      " 11  education_level_Graduate              8955 non-null   uint8   \n",
      " 12  education_level_Masters               8955 non-null   uint8   \n",
      " 13  education_level_Phd                   8955 non-null   uint8   \n",
      " 14  major_discipline_Arts                 8955 non-null   uint8   \n",
      " 15  major_discipline_Business Degree      8955 non-null   uint8   \n",
      " 16  major_discipline_Humanities           8955 non-null   uint8   \n",
      " 17  major_discipline_No Major             8955 non-null   uint8   \n",
      " 18  major_discipline_Other                8955 non-null   uint8   \n",
      " 19  major_discipline_STEM                 8955 non-null   uint8   \n",
      " 20  company_size_10/49                    8955 non-null   uint8   \n",
      " 21  company_size_100-500                  8955 non-null   uint8   \n",
      " 22  company_size_1000-4999                8955 non-null   uint8   \n",
      " 23  company_size_10000+                   8955 non-null   uint8   \n",
      " 24  company_size_50-99                    8955 non-null   uint8   \n",
      " 25  company_size_500-999                  8955 non-null   uint8   \n",
      " 26  company_size_5000-9999                8955 non-null   uint8   \n",
      " 27  company_size_<10                      8955 non-null   uint8   \n",
      " 28  company_type_Early Stage Startup      8955 non-null   uint8   \n",
      " 29  company_type_Funded Startup           8955 non-null   uint8   \n",
      " 30  company_type_NGO                      8955 non-null   uint8   \n",
      " 31  company_type_Other                    8955 non-null   uint8   \n",
      " 32  company_type_Public Sector            8955 non-null   uint8   \n",
      " 33  company_type_Pvt Ltd                  8955 non-null   uint8   \n",
      " 34  last_new_job_1                        8955 non-null   uint8   \n",
      " 35  last_new_job_2                        8955 non-null   uint8   \n",
      " 36  last_new_job_3                        8955 non-null   uint8   \n",
      " 37  last_new_job_4                        8955 non-null   uint8   \n",
      " 38  last_new_job_>4                       8955 non-null   uint8   \n",
      " 39  last_new_job_never                    8955 non-null   uint8   \n",
      "dtypes: category(1), float64(2), int64(1), object(1), uint8(35)\n",
      "memory usage: 664.7+ KB\n"
     ]
    }
   ],
   "source": [
    "df.info()"
   ]
  },
  {
   "cell_type": "code",
   "execution_count": 35,
   "metadata": {},
   "outputs": [],
   "source": [
    "df['relevent_experience'] = df['relevent_experience'].cat.codes"
   ]
  },
  {
   "cell_type": "code",
   "execution_count": 36,
   "metadata": {},
   "outputs": [
    {
     "name": "stdout",
     "output_type": "stream",
     "text": [
      "<class 'pandas.core.frame.DataFrame'>\n",
      "Int64Index: 8955 entries, 1 to 19155\n",
      "Data columns (total 40 columns):\n",
      " #   Column                                Non-Null Count  Dtype  \n",
      "---  ------                                --------------  -----  \n",
      " 0   city_development_index                8955 non-null   float64\n",
      " 1   relevent_experience                   8955 non-null   int8   \n",
      " 2   experience                            8955 non-null   object \n",
      " 3   training_hours                        8955 non-null   int64  \n",
      " 4   target                                8955 non-null   float64\n",
      " 5   gender_Female                         8955 non-null   uint8  \n",
      " 6   gender_Male                           8955 non-null   uint8  \n",
      " 7   gender_Other                          8955 non-null   uint8  \n",
      " 8   enrolled_university_Full time course  8955 non-null   uint8  \n",
      " 9   enrolled_university_Part time course  8955 non-null   uint8  \n",
      " 10  enrolled_university_no_enrollment     8955 non-null   uint8  \n",
      " 11  education_level_Graduate              8955 non-null   uint8  \n",
      " 12  education_level_Masters               8955 non-null   uint8  \n",
      " 13  education_level_Phd                   8955 non-null   uint8  \n",
      " 14  major_discipline_Arts                 8955 non-null   uint8  \n",
      " 15  major_discipline_Business Degree      8955 non-null   uint8  \n",
      " 16  major_discipline_Humanities           8955 non-null   uint8  \n",
      " 17  major_discipline_No Major             8955 non-null   uint8  \n",
      " 18  major_discipline_Other                8955 non-null   uint8  \n",
      " 19  major_discipline_STEM                 8955 non-null   uint8  \n",
      " 20  company_size_10/49                    8955 non-null   uint8  \n",
      " 21  company_size_100-500                  8955 non-null   uint8  \n",
      " 22  company_size_1000-4999                8955 non-null   uint8  \n",
      " 23  company_size_10000+                   8955 non-null   uint8  \n",
      " 24  company_size_50-99                    8955 non-null   uint8  \n",
      " 25  company_size_500-999                  8955 non-null   uint8  \n",
      " 26  company_size_5000-9999                8955 non-null   uint8  \n",
      " 27  company_size_<10                      8955 non-null   uint8  \n",
      " 28  company_type_Early Stage Startup      8955 non-null   uint8  \n",
      " 29  company_type_Funded Startup           8955 non-null   uint8  \n",
      " 30  company_type_NGO                      8955 non-null   uint8  \n",
      " 31  company_type_Other                    8955 non-null   uint8  \n",
      " 32  company_type_Public Sector            8955 non-null   uint8  \n",
      " 33  company_type_Pvt Ltd                  8955 non-null   uint8  \n",
      " 34  last_new_job_1                        8955 non-null   uint8  \n",
      " 35  last_new_job_2                        8955 non-null   uint8  \n",
      " 36  last_new_job_3                        8955 non-null   uint8  \n",
      " 37  last_new_job_4                        8955 non-null   uint8  \n",
      " 38  last_new_job_>4                       8955 non-null   uint8  \n",
      " 39  last_new_job_never                    8955 non-null   uint8  \n",
      "dtypes: float64(2), int64(1), int8(1), object(1), uint8(35)\n",
      "memory usage: 664.6+ KB\n"
     ]
    }
   ],
   "source": [
    "df.info()"
   ]
  },
  {
   "cell_type": "code",
   "execution_count": 37,
   "metadata": {},
   "outputs": [
    {
     "data": {
      "text/html": [
       "<div>\n",
       "<style scoped>\n",
       "    .dataframe tbody tr th:only-of-type {\n",
       "        vertical-align: middle;\n",
       "    }\n",
       "\n",
       "    .dataframe tbody tr th {\n",
       "        vertical-align: top;\n",
       "    }\n",
       "\n",
       "    .dataframe thead th {\n",
       "        text-align: right;\n",
       "    }\n",
       "</style>\n",
       "<table border=\"1\" class=\"dataframe\">\n",
       "  <thead>\n",
       "    <tr style=\"text-align: right;\">\n",
       "      <th></th>\n",
       "      <th>city_development_index</th>\n",
       "      <th>relevent_experience</th>\n",
       "      <th>experience</th>\n",
       "      <th>training_hours</th>\n",
       "      <th>target</th>\n",
       "      <th>gender_Female</th>\n",
       "      <th>gender_Male</th>\n",
       "      <th>gender_Other</th>\n",
       "      <th>enrolled_university_Full time course</th>\n",
       "      <th>enrolled_university_Part time course</th>\n",
       "      <th>...</th>\n",
       "      <th>company_type_NGO</th>\n",
       "      <th>company_type_Other</th>\n",
       "      <th>company_type_Public Sector</th>\n",
       "      <th>company_type_Pvt Ltd</th>\n",
       "      <th>last_new_job_1</th>\n",
       "      <th>last_new_job_2</th>\n",
       "      <th>last_new_job_3</th>\n",
       "      <th>last_new_job_4</th>\n",
       "      <th>last_new_job_&gt;4</th>\n",
       "      <th>last_new_job_never</th>\n",
       "    </tr>\n",
       "  </thead>\n",
       "  <tbody>\n",
       "    <tr>\n",
       "      <th>1</th>\n",
       "      <td>0.776</td>\n",
       "      <td>1</td>\n",
       "      <td>15</td>\n",
       "      <td>47</td>\n",
       "      <td>0.0</td>\n",
       "      <td>0</td>\n",
       "      <td>1</td>\n",
       "      <td>0</td>\n",
       "      <td>0</td>\n",
       "      <td>0</td>\n",
       "      <td>...</td>\n",
       "      <td>0</td>\n",
       "      <td>0</td>\n",
       "      <td>0</td>\n",
       "      <td>1</td>\n",
       "      <td>0</td>\n",
       "      <td>0</td>\n",
       "      <td>0</td>\n",
       "      <td>0</td>\n",
       "      <td>1</td>\n",
       "      <td>0</td>\n",
       "    </tr>\n",
       "    <tr>\n",
       "      <th>4</th>\n",
       "      <td>0.767</td>\n",
       "      <td>0</td>\n",
       "      <td>&gt;20</td>\n",
       "      <td>8</td>\n",
       "      <td>0.0</td>\n",
       "      <td>0</td>\n",
       "      <td>1</td>\n",
       "      <td>0</td>\n",
       "      <td>0</td>\n",
       "      <td>0</td>\n",
       "      <td>...</td>\n",
       "      <td>0</td>\n",
       "      <td>0</td>\n",
       "      <td>0</td>\n",
       "      <td>0</td>\n",
       "      <td>0</td>\n",
       "      <td>0</td>\n",
       "      <td>0</td>\n",
       "      <td>1</td>\n",
       "      <td>0</td>\n",
       "      <td>0</td>\n",
       "    </tr>\n",
       "    <tr>\n",
       "      <th>7</th>\n",
       "      <td>0.762</td>\n",
       "      <td>0</td>\n",
       "      <td>13</td>\n",
       "      <td>18</td>\n",
       "      <td>1.0</td>\n",
       "      <td>0</td>\n",
       "      <td>1</td>\n",
       "      <td>0</td>\n",
       "      <td>0</td>\n",
       "      <td>0</td>\n",
       "      <td>...</td>\n",
       "      <td>0</td>\n",
       "      <td>0</td>\n",
       "      <td>0</td>\n",
       "      <td>1</td>\n",
       "      <td>0</td>\n",
       "      <td>0</td>\n",
       "      <td>0</td>\n",
       "      <td>0</td>\n",
       "      <td>1</td>\n",
       "      <td>0</td>\n",
       "    </tr>\n",
       "    <tr>\n",
       "      <th>8</th>\n",
       "      <td>0.920</td>\n",
       "      <td>0</td>\n",
       "      <td>7</td>\n",
       "      <td>46</td>\n",
       "      <td>1.0</td>\n",
       "      <td>0</td>\n",
       "      <td>1</td>\n",
       "      <td>0</td>\n",
       "      <td>0</td>\n",
       "      <td>0</td>\n",
       "      <td>...</td>\n",
       "      <td>0</td>\n",
       "      <td>0</td>\n",
       "      <td>0</td>\n",
       "      <td>1</td>\n",
       "      <td>1</td>\n",
       "      <td>0</td>\n",
       "      <td>0</td>\n",
       "      <td>0</td>\n",
       "      <td>0</td>\n",
       "      <td>0</td>\n",
       "    </tr>\n",
       "    <tr>\n",
       "      <th>11</th>\n",
       "      <td>0.920</td>\n",
       "      <td>0</td>\n",
       "      <td>5</td>\n",
       "      <td>108</td>\n",
       "      <td>0.0</td>\n",
       "      <td>0</td>\n",
       "      <td>1</td>\n",
       "      <td>0</td>\n",
       "      <td>0</td>\n",
       "      <td>0</td>\n",
       "      <td>...</td>\n",
       "      <td>0</td>\n",
       "      <td>0</td>\n",
       "      <td>0</td>\n",
       "      <td>1</td>\n",
       "      <td>1</td>\n",
       "      <td>0</td>\n",
       "      <td>0</td>\n",
       "      <td>0</td>\n",
       "      <td>0</td>\n",
       "      <td>0</td>\n",
       "    </tr>\n",
       "  </tbody>\n",
       "</table>\n",
       "<p>5 rows × 40 columns</p>\n",
       "</div>"
      ],
      "text/plain": [
       "    city_development_index  relevent_experience experience  training_hours  \\\n",
       "1                    0.776                    1         15              47   \n",
       "4                    0.767                    0        >20               8   \n",
       "7                    0.762                    0         13              18   \n",
       "8                    0.920                    0          7              46   \n",
       "11                   0.920                    0          5             108   \n",
       "\n",
       "    target  gender_Female  gender_Male  gender_Other  \\\n",
       "1      0.0              0            1             0   \n",
       "4      0.0              0            1             0   \n",
       "7      1.0              0            1             0   \n",
       "8      1.0              0            1             0   \n",
       "11     0.0              0            1             0   \n",
       "\n",
       "    enrolled_university_Full time course  \\\n",
       "1                                      0   \n",
       "4                                      0   \n",
       "7                                      0   \n",
       "8                                      0   \n",
       "11                                     0   \n",
       "\n",
       "    enrolled_university_Part time course  ...  company_type_NGO  \\\n",
       "1                                      0  ...                 0   \n",
       "4                                      0  ...                 0   \n",
       "7                                      0  ...                 0   \n",
       "8                                      0  ...                 0   \n",
       "11                                     0  ...                 0   \n",
       "\n",
       "    company_type_Other  company_type_Public Sector  company_type_Pvt Ltd  \\\n",
       "1                    0                           0                     1   \n",
       "4                    0                           0                     0   \n",
       "7                    0                           0                     1   \n",
       "8                    0                           0                     1   \n",
       "11                   0                           0                     1   \n",
       "\n",
       "    last_new_job_1  last_new_job_2  last_new_job_3  last_new_job_4  \\\n",
       "1                0               0               0               0   \n",
       "4                0               0               0               1   \n",
       "7                0               0               0               0   \n",
       "8                1               0               0               0   \n",
       "11               1               0               0               0   \n",
       "\n",
       "    last_new_job_>4  last_new_job_never  \n",
       "1                 1                   0  \n",
       "4                 0                   0  \n",
       "7                 1                   0  \n",
       "8                 0                   0  \n",
       "11                0                   0  \n",
       "\n",
       "[5 rows x 40 columns]"
      ]
     },
     "execution_count": 37,
     "metadata": {},
     "output_type": "execute_result"
    }
   ],
   "source": [
    "df.head()"
   ]
  },
  {
   "cell_type": "code",
   "execution_count": 48,
   "metadata": {},
   "outputs": [],
   "source": [
    "from random import randint\n",
    "def fix_experience(x):\n",
    "    if x == '>20':\n",
    "        return randint(20,26)\n",
    "    elif x == '<1':\n",
    "        return 0\n",
    "    return int(x)"
   ]
  },
  {
   "cell_type": "code",
   "execution_count": 49,
   "metadata": {},
   "outputs": [],
   "source": [
    "df['experience'] = df['experience'].apply(fix_experience)"
   ]
  },
  {
   "cell_type": "code",
   "execution_count": 50,
   "metadata": {},
   "outputs": [
    {
     "data": {
      "text/html": [
       "<div>\n",
       "<style scoped>\n",
       "    .dataframe tbody tr th:only-of-type {\n",
       "        vertical-align: middle;\n",
       "    }\n",
       "\n",
       "    .dataframe tbody tr th {\n",
       "        vertical-align: top;\n",
       "    }\n",
       "\n",
       "    .dataframe thead th {\n",
       "        text-align: right;\n",
       "    }\n",
       "</style>\n",
       "<table border=\"1\" class=\"dataframe\">\n",
       "  <thead>\n",
       "    <tr style=\"text-align: right;\">\n",
       "      <th></th>\n",
       "      <th>city_development_index</th>\n",
       "      <th>relevent_experience</th>\n",
       "      <th>experience</th>\n",
       "      <th>training_hours</th>\n",
       "      <th>target</th>\n",
       "      <th>gender_Female</th>\n",
       "      <th>gender_Male</th>\n",
       "      <th>gender_Other</th>\n",
       "      <th>enrolled_university_Full time course</th>\n",
       "      <th>enrolled_university_Part time course</th>\n",
       "      <th>...</th>\n",
       "      <th>company_type_NGO</th>\n",
       "      <th>company_type_Other</th>\n",
       "      <th>company_type_Public Sector</th>\n",
       "      <th>company_type_Pvt Ltd</th>\n",
       "      <th>last_new_job_1</th>\n",
       "      <th>last_new_job_2</th>\n",
       "      <th>last_new_job_3</th>\n",
       "      <th>last_new_job_4</th>\n",
       "      <th>last_new_job_&gt;4</th>\n",
       "      <th>last_new_job_never</th>\n",
       "    </tr>\n",
       "  </thead>\n",
       "  <tbody>\n",
       "    <tr>\n",
       "      <th>1</th>\n",
       "      <td>0.776</td>\n",
       "      <td>1</td>\n",
       "      <td>15</td>\n",
       "      <td>47</td>\n",
       "      <td>0.0</td>\n",
       "      <td>0</td>\n",
       "      <td>1</td>\n",
       "      <td>0</td>\n",
       "      <td>0</td>\n",
       "      <td>0</td>\n",
       "      <td>...</td>\n",
       "      <td>0</td>\n",
       "      <td>0</td>\n",
       "      <td>0</td>\n",
       "      <td>1</td>\n",
       "      <td>0</td>\n",
       "      <td>0</td>\n",
       "      <td>0</td>\n",
       "      <td>0</td>\n",
       "      <td>1</td>\n",
       "      <td>0</td>\n",
       "    </tr>\n",
       "    <tr>\n",
       "      <th>4</th>\n",
       "      <td>0.767</td>\n",
       "      <td>0</td>\n",
       "      <td>20</td>\n",
       "      <td>8</td>\n",
       "      <td>0.0</td>\n",
       "      <td>0</td>\n",
       "      <td>1</td>\n",
       "      <td>0</td>\n",
       "      <td>0</td>\n",
       "      <td>0</td>\n",
       "      <td>...</td>\n",
       "      <td>0</td>\n",
       "      <td>0</td>\n",
       "      <td>0</td>\n",
       "      <td>0</td>\n",
       "      <td>0</td>\n",
       "      <td>0</td>\n",
       "      <td>0</td>\n",
       "      <td>1</td>\n",
       "      <td>0</td>\n",
       "      <td>0</td>\n",
       "    </tr>\n",
       "    <tr>\n",
       "      <th>7</th>\n",
       "      <td>0.762</td>\n",
       "      <td>0</td>\n",
       "      <td>13</td>\n",
       "      <td>18</td>\n",
       "      <td>1.0</td>\n",
       "      <td>0</td>\n",
       "      <td>1</td>\n",
       "      <td>0</td>\n",
       "      <td>0</td>\n",
       "      <td>0</td>\n",
       "      <td>...</td>\n",
       "      <td>0</td>\n",
       "      <td>0</td>\n",
       "      <td>0</td>\n",
       "      <td>1</td>\n",
       "      <td>0</td>\n",
       "      <td>0</td>\n",
       "      <td>0</td>\n",
       "      <td>0</td>\n",
       "      <td>1</td>\n",
       "      <td>0</td>\n",
       "    </tr>\n",
       "    <tr>\n",
       "      <th>8</th>\n",
       "      <td>0.920</td>\n",
       "      <td>0</td>\n",
       "      <td>7</td>\n",
       "      <td>46</td>\n",
       "      <td>1.0</td>\n",
       "      <td>0</td>\n",
       "      <td>1</td>\n",
       "      <td>0</td>\n",
       "      <td>0</td>\n",
       "      <td>0</td>\n",
       "      <td>...</td>\n",
       "      <td>0</td>\n",
       "      <td>0</td>\n",
       "      <td>0</td>\n",
       "      <td>1</td>\n",
       "      <td>1</td>\n",
       "      <td>0</td>\n",
       "      <td>0</td>\n",
       "      <td>0</td>\n",
       "      <td>0</td>\n",
       "      <td>0</td>\n",
       "    </tr>\n",
       "    <tr>\n",
       "      <th>11</th>\n",
       "      <td>0.920</td>\n",
       "      <td>0</td>\n",
       "      <td>5</td>\n",
       "      <td>108</td>\n",
       "      <td>0.0</td>\n",
       "      <td>0</td>\n",
       "      <td>1</td>\n",
       "      <td>0</td>\n",
       "      <td>0</td>\n",
       "      <td>0</td>\n",
       "      <td>...</td>\n",
       "      <td>0</td>\n",
       "      <td>0</td>\n",
       "      <td>0</td>\n",
       "      <td>1</td>\n",
       "      <td>1</td>\n",
       "      <td>0</td>\n",
       "      <td>0</td>\n",
       "      <td>0</td>\n",
       "      <td>0</td>\n",
       "      <td>0</td>\n",
       "    </tr>\n",
       "  </tbody>\n",
       "</table>\n",
       "<p>5 rows × 40 columns</p>\n",
       "</div>"
      ],
      "text/plain": [
       "    city_development_index  relevent_experience  experience  training_hours  \\\n",
       "1                    0.776                    1          15              47   \n",
       "4                    0.767                    0          20               8   \n",
       "7                    0.762                    0          13              18   \n",
       "8                    0.920                    0           7              46   \n",
       "11                   0.920                    0           5             108   \n",
       "\n",
       "    target  gender_Female  gender_Male  gender_Other  \\\n",
       "1      0.0              0            1             0   \n",
       "4      0.0              0            1             0   \n",
       "7      1.0              0            1             0   \n",
       "8      1.0              0            1             0   \n",
       "11     0.0              0            1             0   \n",
       "\n",
       "    enrolled_university_Full time course  \\\n",
       "1                                      0   \n",
       "4                                      0   \n",
       "7                                      0   \n",
       "8                                      0   \n",
       "11                                     0   \n",
       "\n",
       "    enrolled_university_Part time course  ...  company_type_NGO  \\\n",
       "1                                      0  ...                 0   \n",
       "4                                      0  ...                 0   \n",
       "7                                      0  ...                 0   \n",
       "8                                      0  ...                 0   \n",
       "11                                     0  ...                 0   \n",
       "\n",
       "    company_type_Other  company_type_Public Sector  company_type_Pvt Ltd  \\\n",
       "1                    0                           0                     1   \n",
       "4                    0                           0                     0   \n",
       "7                    0                           0                     1   \n",
       "8                    0                           0                     1   \n",
       "11                   0                           0                     1   \n",
       "\n",
       "    last_new_job_1  last_new_job_2  last_new_job_3  last_new_job_4  \\\n",
       "1                0               0               0               0   \n",
       "4                0               0               0               1   \n",
       "7                0               0               0               0   \n",
       "8                1               0               0               0   \n",
       "11               1               0               0               0   \n",
       "\n",
       "    last_new_job_>4  last_new_job_never  \n",
       "1                 1                   0  \n",
       "4                 0                   0  \n",
       "7                 1                   0  \n",
       "8                 0                   0  \n",
       "11                0                   0  \n",
       "\n",
       "[5 rows x 40 columns]"
      ]
     },
     "execution_count": 50,
     "metadata": {},
     "output_type": "execute_result"
    }
   ],
   "source": [
    "df.head()"
   ]
  },
  {
   "cell_type": "code",
   "execution_count": 51,
   "metadata": {},
   "outputs": [
    {
     "name": "stdout",
     "output_type": "stream",
     "text": [
      "<class 'pandas.core.frame.DataFrame'>\n",
      "Int64Index: 8955 entries, 1 to 19155\n",
      "Data columns (total 40 columns):\n",
      " #   Column                                Non-Null Count  Dtype  \n",
      "---  ------                                --------------  -----  \n",
      " 0   city_development_index                8955 non-null   float64\n",
      " 1   relevent_experience                   8955 non-null   int8   \n",
      " 2   experience                            8955 non-null   int64  \n",
      " 3   training_hours                        8955 non-null   int64  \n",
      " 4   target                                8955 non-null   float64\n",
      " 5   gender_Female                         8955 non-null   uint8  \n",
      " 6   gender_Male                           8955 non-null   uint8  \n",
      " 7   gender_Other                          8955 non-null   uint8  \n",
      " 8   enrolled_university_Full time course  8955 non-null   uint8  \n",
      " 9   enrolled_university_Part time course  8955 non-null   uint8  \n",
      " 10  enrolled_university_no_enrollment     8955 non-null   uint8  \n",
      " 11  education_level_Graduate              8955 non-null   uint8  \n",
      " 12  education_level_Masters               8955 non-null   uint8  \n",
      " 13  education_level_Phd                   8955 non-null   uint8  \n",
      " 14  major_discipline_Arts                 8955 non-null   uint8  \n",
      " 15  major_discipline_Business Degree      8955 non-null   uint8  \n",
      " 16  major_discipline_Humanities           8955 non-null   uint8  \n",
      " 17  major_discipline_No Major             8955 non-null   uint8  \n",
      " 18  major_discipline_Other                8955 non-null   uint8  \n",
      " 19  major_discipline_STEM                 8955 non-null   uint8  \n",
      " 20  company_size_10/49                    8955 non-null   uint8  \n",
      " 21  company_size_100-500                  8955 non-null   uint8  \n",
      " 22  company_size_1000-4999                8955 non-null   uint8  \n",
      " 23  company_size_10000+                   8955 non-null   uint8  \n",
      " 24  company_size_50-99                    8955 non-null   uint8  \n",
      " 25  company_size_500-999                  8955 non-null   uint8  \n",
      " 26  company_size_5000-9999                8955 non-null   uint8  \n",
      " 27  company_size_<10                      8955 non-null   uint8  \n",
      " 28  company_type_Early Stage Startup      8955 non-null   uint8  \n",
      " 29  company_type_Funded Startup           8955 non-null   uint8  \n",
      " 30  company_type_NGO                      8955 non-null   uint8  \n",
      " 31  company_type_Other                    8955 non-null   uint8  \n",
      " 32  company_type_Public Sector            8955 non-null   uint8  \n",
      " 33  company_type_Pvt Ltd                  8955 non-null   uint8  \n",
      " 34  last_new_job_1                        8955 non-null   uint8  \n",
      " 35  last_new_job_2                        8955 non-null   uint8  \n",
      " 36  last_new_job_3                        8955 non-null   uint8  \n",
      " 37  last_new_job_4                        8955 non-null   uint8  \n",
      " 38  last_new_job_>4                       8955 non-null   uint8  \n",
      " 39  last_new_job_never                    8955 non-null   uint8  \n",
      "dtypes: float64(2), int64(2), int8(1), uint8(35)\n",
      "memory usage: 664.6 KB\n"
     ]
    }
   ],
   "source": [
    "df.info()"
   ]
  },
  {
   "cell_type": "code",
   "execution_count": 52,
   "metadata": {},
   "outputs": [
    {
     "data": {
      "text/plain": [
       "5     575\n",
       "10    551\n",
       "6     535\n",
       "9     533\n",
       "7     485\n",
       "4     480\n",
       "3     428\n",
       "8     398\n",
       "15    398\n",
       "11    372\n",
       "20    364\n",
       "14    333\n",
       "16    304\n",
       "2     297\n",
       "12    293\n",
       "22    284\n",
       "24    275\n",
       "25    272\n",
       "21    263\n",
       "26    261\n",
       "23    248\n",
       "13    235\n",
       "17    206\n",
       "19    179\n",
       "18    168\n",
       "1     121\n",
       "0      97\n",
       "Name: experience, dtype: int64"
      ]
     },
     "execution_count": 52,
     "metadata": {},
     "output_type": "execute_result"
    }
   ],
   "source": [
    "df['experience'].value_counts()"
   ]
  },
  {
   "cell_type": "code",
   "execution_count": 53,
   "metadata": {},
   "outputs": [],
   "source": [
    "X = df.drop('target', 1)"
   ]
  },
  {
   "cell_type": "code",
   "execution_count": 54,
   "metadata": {},
   "outputs": [],
   "source": [
    "y = df['target']"
   ]
  },
  {
   "cell_type": "code",
   "execution_count": 56,
   "metadata": {},
   "outputs": [],
   "source": [
    "from sklearn.model_selection import train_test_split"
   ]
  },
  {
   "cell_type": "code",
   "execution_count": 57,
   "metadata": {},
   "outputs": [],
   "source": [
    "X_train, X_test, y_train, y_test = train_test_split(X, y, test_size=0.33, random_state=42)"
   ]
  },
  {
   "cell_type": "code",
   "execution_count": 76,
   "metadata": {},
   "outputs": [
    {
     "data": {
      "text/plain": [
       "0.8481055480378891"
      ]
     },
     "execution_count": 76,
     "metadata": {},
     "output_type": "execute_result"
    }
   ],
   "source": [
    "from sklearn.ensemble import RandomForestClassifier\n",
    "rfc = RandomForestClassifier(n_estimators = 1000).fit(X_train, y_train)\n",
    "rfc.score(X_test, y_test)"
   ]
  },
  {
   "cell_type": "code",
   "execution_count": 68,
   "metadata": {},
   "outputs": [],
   "source": [
    "from sklearn.preprocessing import StandardScaler"
   ]
  },
  {
   "cell_type": "code",
   "execution_count": 69,
   "metadata": {},
   "outputs": [],
   "source": [
    "scaler = StandardScaler().fit(X) # sukuriame StandardScaler objektą\n",
    "scaled_features = scaler.transform(X) # perdarome reikšmes į KNN klasifikatoriui priimtinesnį formatą"
   ]
  },
  {
   "cell_type": "code",
   "execution_count": 70,
   "metadata": {},
   "outputs": [],
   "source": [
    "features = pd.DataFrame(scaled_features, columns=X.columns)"
   ]
  },
  {
   "cell_type": "code",
   "execution_count": 71,
   "metadata": {},
   "outputs": [],
   "source": [
    "X_train, X_test, y_train, y_test = train_test_split(features, y, test_size=0.33, random_state=42)"
   ]
  },
  {
   "cell_type": "code",
   "execution_count": 73,
   "metadata": {},
   "outputs": [
    {
     "data": {
      "text/plain": [
       "0.8487821380243572"
      ]
     },
     "execution_count": 73,
     "metadata": {},
     "output_type": "execute_result"
    }
   ],
   "source": [
    "from sklearn.ensemble import RandomForestClassifier\n",
    "rfc = RandomForestClassifier(n_estimators = 1000).fit(X_train, y_train)\n",
    "rfc.score(X_test, y_test)"
   ]
  },
  {
   "cell_type": "code",
   "execution_count": 75,
   "metadata": {},
   "outputs": [
    {
     "data": {
      "text/plain": [
       "0.8376184032476319"
      ]
     },
     "execution_count": 75,
     "metadata": {},
     "output_type": "execute_result"
    }
   ],
   "source": [
    "from sklearn.neighbors import KNeighborsClassifier\n",
    "knc = KNeighborsClassifier(n_neighbors = 11).fit(X_train, y_train)\n",
    "knc.score(X_test, y_test)"
   ]
  },
  {
   "cell_type": "code",
   "execution_count": null,
   "metadata": {},
   "outputs": [],
   "source": []
  }
 ],
 "metadata": {
  "kernelspec": {
   "display_name": "Python 3",
   "language": "python",
   "name": "python3"
  },
  "language_info": {
   "codemirror_mode": {
    "name": "ipython",
    "version": 3
   },
   "file_extension": ".py",
   "mimetype": "text/x-python",
   "name": "python",
   "nbconvert_exporter": "python",
   "pygments_lexer": "ipython3",
   "version": "3.8.5"
  }
 },
 "nbformat": 4,
 "nbformat_minor": 4
}
