{
 "cells": [
  {
   "cell_type": "markdown",
   "metadata": {},
   "source": [
    "# Kaip tvarkytis su trūkstamais duomenimis"
   ]
  },
  {
   "cell_type": "code",
   "execution_count": 1,
   "metadata": {},
   "outputs": [],
   "source": [
    "import pandas as pd"
   ]
  },
  {
   "cell_type": "code",
   "execution_count": 2,
   "metadata": {},
   "outputs": [],
   "source": [
    "data = pd.read_csv('mock_duomenys.csv')"
   ]
  },
  {
   "cell_type": "markdown",
   "metadata": {},
   "source": [
    "Turime atsitiktinai sugeneruotų duomenų lentelę:"
   ]
  },
  {
   "cell_type": "code",
   "execution_count": 5,
   "metadata": {},
   "outputs": [
    {
     "data": {
      "text/html": [
       "<div>\n",
       "<style scoped>\n",
       "    .dataframe tbody tr th:only-of-type {\n",
       "        vertical-align: middle;\n",
       "    }\n",
       "\n",
       "    .dataframe tbody tr th {\n",
       "        vertical-align: top;\n",
       "    }\n",
       "\n",
       "    .dataframe thead th {\n",
       "        text-align: right;\n",
       "    }\n",
       "</style>\n",
       "<table border=\"1\" class=\"dataframe\">\n",
       "  <thead>\n",
       "    <tr style=\"text-align: right;\">\n",
       "      <th></th>\n",
       "      <th>spalva</th>\n",
       "      <th>kategorija</th>\n",
       "      <th>pirmas</th>\n",
       "      <th>antras</th>\n",
       "      <th>trecias</th>\n",
       "    </tr>\n",
       "  </thead>\n",
       "  <tbody>\n",
       "    <tr>\n",
       "      <th>0</th>\n",
       "      <td>NaN</td>\n",
       "      <td>False</td>\n",
       "      <td>25.93</td>\n",
       "      <td>NaN</td>\n",
       "      <td>NaN</td>\n",
       "    </tr>\n",
       "    <tr>\n",
       "      <th>1</th>\n",
       "      <td>Pink</td>\n",
       "      <td>False</td>\n",
       "      <td>98.48</td>\n",
       "      <td>0.5448</td>\n",
       "      <td>10554.0</td>\n",
       "    </tr>\n",
       "    <tr>\n",
       "      <th>2</th>\n",
       "      <td>Crimson</td>\n",
       "      <td>False</td>\n",
       "      <td>74.56</td>\n",
       "      <td>0.7766</td>\n",
       "      <td>37659.0</td>\n",
       "    </tr>\n",
       "    <tr>\n",
       "      <th>3</th>\n",
       "      <td>Blue</td>\n",
       "      <td>NaN</td>\n",
       "      <td>10.07</td>\n",
       "      <td>0.1053</td>\n",
       "      <td>78803.0</td>\n",
       "    </tr>\n",
       "    <tr>\n",
       "      <th>4</th>\n",
       "      <td>Red</td>\n",
       "      <td>False</td>\n",
       "      <td>81.99</td>\n",
       "      <td>0.9349</td>\n",
       "      <td>95988.0</td>\n",
       "    </tr>\n",
       "  </tbody>\n",
       "</table>\n",
       "</div>"
      ],
      "text/plain": [
       "    spalva kategorija  pirmas  antras  trecias\n",
       "0      NaN      False   25.93     NaN      NaN\n",
       "1     Pink      False   98.48  0.5448  10554.0\n",
       "2  Crimson      False   74.56  0.7766  37659.0\n",
       "3     Blue        NaN   10.07  0.1053  78803.0\n",
       "4      Red      False   81.99  0.9349  95988.0"
      ]
     },
     "execution_count": 5,
     "metadata": {},
     "output_type": "execute_result"
    }
   ],
   "source": [
    "data.head()"
   ]
  },
  {
   "cell_type": "code",
   "execution_count": 4,
   "metadata": {},
   "outputs": [
    {
     "name": "stdout",
     "output_type": "stream",
     "text": [
      "<class 'pandas.core.frame.DataFrame'>\n",
      "RangeIndex: 50 entries, 0 to 49\n",
      "Data columns (total 5 columns):\n",
      " #   Column      Non-Null Count  Dtype  \n",
      "---  ------      --------------  -----  \n",
      " 0   spalva      44 non-null     object \n",
      " 1   kategorija  41 non-null     object \n",
      " 2   pirmas      46 non-null     float64\n",
      " 3   antras      44 non-null     float64\n",
      " 4   trecias     44 non-null     float64\n",
      "dtypes: float64(3), object(2)\n",
      "memory usage: 2.1+ KB\n"
     ]
    }
   ],
   "source": [
    "data.info()"
   ]
  },
  {
   "cell_type": "markdown",
   "metadata": {},
   "source": [
    "Matome, kad turime 50 eilučių, tačiau visose iš jų trūksta duomenų. ML'e eilutes su trūkstamais duomenimis reikia arba šalinti, arba suvesti trūkstamus duomenis."
   ]
  },
  {
   "cell_type": "code",
   "execution_count": 41,
   "metadata": {},
   "outputs": [],
   "source": [
    "df = data.copy()"
   ]
  },
  {
   "cell_type": "markdown",
   "metadata": {},
   "source": [
    "### Skaičių užpildymas stulpelio vidurkiu "
   ]
  },
  {
   "cell_type": "markdown",
   "metadata": {},
   "source": [
    "pavienį stulpelį galime sutvarkyti taip:"
   ]
  },
  {
   "cell_type": "code",
   "execution_count": 42,
   "metadata": {},
   "outputs": [
    {
     "data": {
      "text/html": [
       "<div>\n",
       "<style scoped>\n",
       "    .dataframe tbody tr th:only-of-type {\n",
       "        vertical-align: middle;\n",
       "    }\n",
       "\n",
       "    .dataframe tbody tr th {\n",
       "        vertical-align: top;\n",
       "    }\n",
       "\n",
       "    .dataframe thead th {\n",
       "        text-align: right;\n",
       "    }\n",
       "</style>\n",
       "<table border=\"1\" class=\"dataframe\">\n",
       "  <thead>\n",
       "    <tr style=\"text-align: right;\">\n",
       "      <th></th>\n",
       "      <th>spalva</th>\n",
       "      <th>kategorija</th>\n",
       "      <th>pirmas</th>\n",
       "      <th>antras</th>\n",
       "      <th>trecias</th>\n",
       "    </tr>\n",
       "  </thead>\n",
       "  <tbody>\n",
       "    <tr>\n",
       "      <th>9</th>\n",
       "      <td>Aquamarine</td>\n",
       "      <td>False</td>\n",
       "      <td>NaN</td>\n",
       "      <td>0.3299</td>\n",
       "      <td>3344.0</td>\n",
       "    </tr>\n",
       "    <tr>\n",
       "      <th>13</th>\n",
       "      <td>Aquamarine</td>\n",
       "      <td>True</td>\n",
       "      <td>NaN</td>\n",
       "      <td>0.4929</td>\n",
       "      <td>21490.0</td>\n",
       "    </tr>\n",
       "    <tr>\n",
       "      <th>22</th>\n",
       "      <td>Khaki</td>\n",
       "      <td>False</td>\n",
       "      <td>NaN</td>\n",
       "      <td>0.1695</td>\n",
       "      <td>5637.0</td>\n",
       "    </tr>\n",
       "    <tr>\n",
       "      <th>29</th>\n",
       "      <td>Blue</td>\n",
       "      <td>False</td>\n",
       "      <td>NaN</td>\n",
       "      <td>0.0401</td>\n",
       "      <td>54806.0</td>\n",
       "    </tr>\n",
       "  </tbody>\n",
       "</table>\n",
       "</div>"
      ],
      "text/plain": [
       "        spalva kategorija  pirmas  antras  trecias\n",
       "9   Aquamarine      False     NaN  0.3299   3344.0\n",
       "13  Aquamarine       True     NaN  0.4929  21490.0\n",
       "22       Khaki      False     NaN  0.1695   5637.0\n",
       "29        Blue      False     NaN  0.0401  54806.0"
      ]
     },
     "execution_count": 42,
     "metadata": {},
     "output_type": "execute_result"
    }
   ],
   "source": [
    "df[df['pirmas'].isnull()]"
   ]
  },
  {
   "cell_type": "code",
   "execution_count": 43,
   "metadata": {},
   "outputs": [],
   "source": [
    "df['pirmas'] = df.pirmas.fillna(df['pirmas'].mean())"
   ]
  },
  {
   "cell_type": "code",
   "execution_count": 44,
   "metadata": {},
   "outputs": [
    {
     "data": {
      "text/html": [
       "<div>\n",
       "<style scoped>\n",
       "    .dataframe tbody tr th:only-of-type {\n",
       "        vertical-align: middle;\n",
       "    }\n",
       "\n",
       "    .dataframe tbody tr th {\n",
       "        vertical-align: top;\n",
       "    }\n",
       "\n",
       "    .dataframe thead th {\n",
       "        text-align: right;\n",
       "    }\n",
       "</style>\n",
       "<table border=\"1\" class=\"dataframe\">\n",
       "  <thead>\n",
       "    <tr style=\"text-align: right;\">\n",
       "      <th></th>\n",
       "      <th>spalva</th>\n",
       "      <th>kategorija</th>\n",
       "      <th>pirmas</th>\n",
       "      <th>antras</th>\n",
       "      <th>trecias</th>\n",
       "    </tr>\n",
       "  </thead>\n",
       "  <tbody>\n",
       "  </tbody>\n",
       "</table>\n",
       "</div>"
      ],
      "text/plain": [
       "Empty DataFrame\n",
       "Columns: [spalva, kategorija, pirmas, antras, trecias]\n",
       "Index: []"
      ]
     },
     "execution_count": 44,
     "metadata": {},
     "output_type": "execute_result"
    }
   ],
   "source": [
    "df[df['pirmas'].isnull()]"
   ]
  },
  {
   "cell_type": "code",
   "execution_count": 45,
   "metadata": {},
   "outputs": [
    {
     "data": {
      "text/plain": [
       "47.06456521739131"
      ]
     },
     "execution_count": 45,
     "metadata": {},
     "output_type": "execute_result"
    }
   ],
   "source": [
    "df.iloc[9]['pirmas']"
   ]
  },
  {
   "cell_type": "code",
   "execution_count": 46,
   "metadata": {},
   "outputs": [
    {
     "data": {
      "text/plain": [
       "47.06456521739131"
      ]
     },
     "execution_count": 46,
     "metadata": {},
     "output_type": "execute_result"
    }
   ],
   "source": [
    "df.iloc[22]['pirmas']"
   ]
  },
  {
   "cell_type": "markdown",
   "metadata": {},
   "source": [
    "Matome, kad trūkstamos reikšmės buvo pakeistos stulpelio vidurkiu. Pabandykime sutvarkyti keletą stulpelių vienu kartu:"
   ]
  },
  {
   "cell_type": "code",
   "execution_count": 47,
   "metadata": {},
   "outputs": [],
   "source": [
    "cols = ['antras', 'trecias']"
   ]
  },
  {
   "cell_type": "code",
   "execution_count": 48,
   "metadata": {},
   "outputs": [],
   "source": [
    "df[cols] = df[cols].fillna(df.mean())"
   ]
  },
  {
   "cell_type": "code",
   "execution_count": 49,
   "metadata": {},
   "outputs": [
    {
     "data": {
      "text/html": [
       "<div>\n",
       "<style scoped>\n",
       "    .dataframe tbody tr th:only-of-type {\n",
       "        vertical-align: middle;\n",
       "    }\n",
       "\n",
       "    .dataframe tbody tr th {\n",
       "        vertical-align: top;\n",
       "    }\n",
       "\n",
       "    .dataframe thead th {\n",
       "        text-align: right;\n",
       "    }\n",
       "</style>\n",
       "<table border=\"1\" class=\"dataframe\">\n",
       "  <thead>\n",
       "    <tr style=\"text-align: right;\">\n",
       "      <th></th>\n",
       "      <th>spalva</th>\n",
       "      <th>kategorija</th>\n",
       "      <th>pirmas</th>\n",
       "      <th>antras</th>\n",
       "      <th>trecias</th>\n",
       "    </tr>\n",
       "  </thead>\n",
       "  <tbody>\n",
       "    <tr>\n",
       "      <th>0</th>\n",
       "      <td>NaN</td>\n",
       "      <td>False</td>\n",
       "      <td>25.93</td>\n",
       "      <td>0.50493</td>\n",
       "      <td>43693.727273</td>\n",
       "    </tr>\n",
       "    <tr>\n",
       "      <th>1</th>\n",
       "      <td>Pink</td>\n",
       "      <td>False</td>\n",
       "      <td>98.48</td>\n",
       "      <td>0.54480</td>\n",
       "      <td>10554.000000</td>\n",
       "    </tr>\n",
       "    <tr>\n",
       "      <th>2</th>\n",
       "      <td>Crimson</td>\n",
       "      <td>False</td>\n",
       "      <td>74.56</td>\n",
       "      <td>0.77660</td>\n",
       "      <td>37659.000000</td>\n",
       "    </tr>\n",
       "    <tr>\n",
       "      <th>3</th>\n",
       "      <td>Blue</td>\n",
       "      <td>NaN</td>\n",
       "      <td>10.07</td>\n",
       "      <td>0.10530</td>\n",
       "      <td>78803.000000</td>\n",
       "    </tr>\n",
       "    <tr>\n",
       "      <th>4</th>\n",
       "      <td>Red</td>\n",
       "      <td>False</td>\n",
       "      <td>81.99</td>\n",
       "      <td>0.93490</td>\n",
       "      <td>95988.000000</td>\n",
       "    </tr>\n",
       "  </tbody>\n",
       "</table>\n",
       "</div>"
      ],
      "text/plain": [
       "    spalva kategorija  pirmas   antras       trecias\n",
       "0      NaN      False   25.93  0.50493  43693.727273\n",
       "1     Pink      False   98.48  0.54480  10554.000000\n",
       "2  Crimson      False   74.56  0.77660  37659.000000\n",
       "3     Blue        NaN   10.07  0.10530  78803.000000\n",
       "4      Red      False   81.99  0.93490  95988.000000"
      ]
     },
     "execution_count": 49,
     "metadata": {},
     "output_type": "execute_result"
    }
   ],
   "source": [
    "df.head()"
   ]
  },
  {
   "cell_type": "code",
   "execution_count": 50,
   "metadata": {},
   "outputs": [
    {
     "data": {
      "text/plain": [
       "0.5049295454545455"
      ]
     },
     "execution_count": 50,
     "metadata": {},
     "output_type": "execute_result"
    }
   ],
   "source": [
    "df['antras'].mean()"
   ]
  },
  {
   "cell_type": "code",
   "execution_count": 51,
   "metadata": {},
   "outputs": [
    {
     "data": {
      "text/plain": [
       "43693.72727272727"
      ]
     },
     "execution_count": 51,
     "metadata": {},
     "output_type": "execute_result"
    }
   ],
   "source": [
    "df['trecias'].mean()"
   ]
  },
  {
   "cell_type": "markdown",
   "metadata": {},
   "source": [
    "Tokiu būdu sutvarkėme du stulpelius iš karto."
   ]
  },
  {
   "cell_type": "markdown",
   "metadata": {},
   "source": [
    "### Kategorinių stulpelių tvarkymas"
   ]
  },
  {
   "cell_type": "markdown",
   "metadata": {},
   "source": [
    "Vienas iš variantų, yra trūkstamų reikšmių užpildymas dažniausiai pasitaikančiomis reikšmėmis. Pažiūrėkime kokių reikšmių daugiausiai turi spalvos ir kategorijos stulpeliai:"
   ]
  },
  {
   "cell_type": "code",
   "execution_count": 52,
   "metadata": {},
   "outputs": [
    {
     "data": {
      "text/plain": [
       "'Yellow'"
      ]
     },
     "execution_count": 52,
     "metadata": {},
     "output_type": "execute_result"
    }
   ],
   "source": [
    "df['spalva'].value_counts().idxmax()"
   ]
  },
  {
   "cell_type": "code",
   "execution_count": 53,
   "metadata": {},
   "outputs": [
    {
     "data": {
      "text/plain": [
       "False    23\n",
       "True     18\n",
       "Name: kategorija, dtype: int64"
      ]
     },
     "execution_count": 53,
     "metadata": {},
     "output_type": "execute_result"
    }
   ],
   "source": [
    "df['kategorija'].value_counts()"
   ]
  },
  {
   "cell_type": "markdown",
   "metadata": {},
   "source": [
    "jeigu norime visos informacijos iš karto, galime naudoti .mode() metodą:"
   ]
  },
  {
   "cell_type": "code",
   "execution_count": 54,
   "metadata": {},
   "outputs": [
    {
     "data": {
      "text/html": [
       "<div>\n",
       "<style scoped>\n",
       "    .dataframe tbody tr th:only-of-type {\n",
       "        vertical-align: middle;\n",
       "    }\n",
       "\n",
       "    .dataframe tbody tr th {\n",
       "        vertical-align: top;\n",
       "    }\n",
       "\n",
       "    .dataframe thead th {\n",
       "        text-align: right;\n",
       "    }\n",
       "</style>\n",
       "<table border=\"1\" class=\"dataframe\">\n",
       "  <thead>\n",
       "    <tr style=\"text-align: right;\">\n",
       "      <th></th>\n",
       "      <th>spalva</th>\n",
       "      <th>kategorija</th>\n",
       "      <th>pirmas</th>\n",
       "      <th>antras</th>\n",
       "      <th>trecias</th>\n",
       "    </tr>\n",
       "  </thead>\n",
       "  <tbody>\n",
       "    <tr>\n",
       "      <th>0</th>\n",
       "      <td>Yellow</td>\n",
       "      <td>False</td>\n",
       "      <td>47.064565</td>\n",
       "      <td>0.50493</td>\n",
       "      <td>43693.727273</td>\n",
       "    </tr>\n",
       "  </tbody>\n",
       "</table>\n",
       "</div>"
      ],
      "text/plain": [
       "   spalva kategorija     pirmas   antras       trecias\n",
       "0  Yellow      False  47.064565  0.50493  43693.727273"
      ]
     },
     "execution_count": 54,
     "metadata": {},
     "output_type": "execute_result"
    }
   ],
   "source": [
    "df.mode()"
   ]
  },
  {
   "cell_type": "markdown",
   "metadata": {},
   "source": [
    "gauname df su dažniausiai pasitaikančiomis vertėmis, kartais eilučių būna daugiau negu viena, tuomet turime rinktis [0] eilutę. Pats sutvarkymas gali atrodyti taip:"
   ]
  },
  {
   "cell_type": "code",
   "execution_count": 55,
   "metadata": {},
   "outputs": [],
   "source": [
    "cols = ['spalva', 'kategorija']"
   ]
  },
  {
   "cell_type": "code",
   "execution_count": 56,
   "metadata": {},
   "outputs": [],
   "source": [
    "df[cols] = df[cols].fillna(df.mode().iloc[0])"
   ]
  },
  {
   "cell_type": "code",
   "execution_count": 57,
   "metadata": {},
   "outputs": [
    {
     "data": {
      "text/html": [
       "<div>\n",
       "<style scoped>\n",
       "    .dataframe tbody tr th:only-of-type {\n",
       "        vertical-align: middle;\n",
       "    }\n",
       "\n",
       "    .dataframe tbody tr th {\n",
       "        vertical-align: top;\n",
       "    }\n",
       "\n",
       "    .dataframe thead th {\n",
       "        text-align: right;\n",
       "    }\n",
       "</style>\n",
       "<table border=\"1\" class=\"dataframe\">\n",
       "  <thead>\n",
       "    <tr style=\"text-align: right;\">\n",
       "      <th></th>\n",
       "      <th>spalva</th>\n",
       "      <th>kategorija</th>\n",
       "      <th>pirmas</th>\n",
       "      <th>antras</th>\n",
       "      <th>trecias</th>\n",
       "    </tr>\n",
       "  </thead>\n",
       "  <tbody>\n",
       "    <tr>\n",
       "      <th>0</th>\n",
       "      <td>Yellow</td>\n",
       "      <td>False</td>\n",
       "      <td>25.93</td>\n",
       "      <td>0.50493</td>\n",
       "      <td>43693.727273</td>\n",
       "    </tr>\n",
       "    <tr>\n",
       "      <th>1</th>\n",
       "      <td>Pink</td>\n",
       "      <td>False</td>\n",
       "      <td>98.48</td>\n",
       "      <td>0.54480</td>\n",
       "      <td>10554.000000</td>\n",
       "    </tr>\n",
       "    <tr>\n",
       "      <th>2</th>\n",
       "      <td>Crimson</td>\n",
       "      <td>False</td>\n",
       "      <td>74.56</td>\n",
       "      <td>0.77660</td>\n",
       "      <td>37659.000000</td>\n",
       "    </tr>\n",
       "    <tr>\n",
       "      <th>3</th>\n",
       "      <td>Blue</td>\n",
       "      <td>False</td>\n",
       "      <td>10.07</td>\n",
       "      <td>0.10530</td>\n",
       "      <td>78803.000000</td>\n",
       "    </tr>\n",
       "    <tr>\n",
       "      <th>4</th>\n",
       "      <td>Red</td>\n",
       "      <td>False</td>\n",
       "      <td>81.99</td>\n",
       "      <td>0.93490</td>\n",
       "      <td>95988.000000</td>\n",
       "    </tr>\n",
       "  </tbody>\n",
       "</table>\n",
       "</div>"
      ],
      "text/plain": [
       "    spalva  kategorija  pirmas   antras       trecias\n",
       "0   Yellow       False   25.93  0.50493  43693.727273\n",
       "1     Pink       False   98.48  0.54480  10554.000000\n",
       "2  Crimson       False   74.56  0.77660  37659.000000\n",
       "3     Blue       False   10.07  0.10530  78803.000000\n",
       "4      Red       False   81.99  0.93490  95988.000000"
      ]
     },
     "execution_count": 57,
     "metadata": {},
     "output_type": "execute_result"
    }
   ],
   "source": [
    "df.head()"
   ]
  },
  {
   "cell_type": "markdown",
   "metadata": {},
   "source": [
    "### Label encoding tips"
   ]
  },
  {
   "cell_type": "markdown",
   "metadata": {},
   "source": [
    "tarkime, true ir false reikšmes norime pakeisti 1 ir 0:\n"
   ]
  },
  {
   "cell_type": "code",
   "execution_count": 71,
   "metadata": {},
   "outputs": [],
   "source": [
    "df1 = df.copy()"
   ]
  },
  {
   "cell_type": "code",
   "execution_count": 75,
   "metadata": {},
   "outputs": [],
   "source": [
    "df1[['spalva', 'kategorija']] = df1[['spalva', 'kategorija']].astype('category')"
   ]
  },
  {
   "cell_type": "code",
   "execution_count": 76,
   "metadata": {},
   "outputs": [
    {
     "data": {
      "text/plain": [
       "spalva        category\n",
       "kategorija    category\n",
       "pirmas         float64\n",
       "antras         float64\n",
       "trecias        float64\n",
       "dtype: object"
      ]
     },
     "execution_count": 76,
     "metadata": {},
     "output_type": "execute_result"
    }
   ],
   "source": [
    "df1.dtypes"
   ]
  },
  {
   "cell_type": "code",
   "execution_count": 77,
   "metadata": {},
   "outputs": [
    {
     "data": {
      "text/html": [
       "<div>\n",
       "<style scoped>\n",
       "    .dataframe tbody tr th:only-of-type {\n",
       "        vertical-align: middle;\n",
       "    }\n",
       "\n",
       "    .dataframe tbody tr th {\n",
       "        vertical-align: top;\n",
       "    }\n",
       "\n",
       "    .dataframe thead th {\n",
       "        text-align: right;\n",
       "    }\n",
       "</style>\n",
       "<table border=\"1\" class=\"dataframe\">\n",
       "  <thead>\n",
       "    <tr style=\"text-align: right;\">\n",
       "      <th></th>\n",
       "      <th>spalva</th>\n",
       "      <th>kategorija</th>\n",
       "      <th>pirmas</th>\n",
       "      <th>antras</th>\n",
       "      <th>trecias</th>\n",
       "    </tr>\n",
       "  </thead>\n",
       "  <tbody>\n",
       "    <tr>\n",
       "      <th>0</th>\n",
       "      <td>Yellow</td>\n",
       "      <td>False</td>\n",
       "      <td>25.93</td>\n",
       "      <td>0.50493</td>\n",
       "      <td>43693.727273</td>\n",
       "    </tr>\n",
       "    <tr>\n",
       "      <th>1</th>\n",
       "      <td>Pink</td>\n",
       "      <td>False</td>\n",
       "      <td>98.48</td>\n",
       "      <td>0.54480</td>\n",
       "      <td>10554.000000</td>\n",
       "    </tr>\n",
       "    <tr>\n",
       "      <th>2</th>\n",
       "      <td>Crimson</td>\n",
       "      <td>False</td>\n",
       "      <td>74.56</td>\n",
       "      <td>0.77660</td>\n",
       "      <td>37659.000000</td>\n",
       "    </tr>\n",
       "    <tr>\n",
       "      <th>3</th>\n",
       "      <td>Blue</td>\n",
       "      <td>False</td>\n",
       "      <td>10.07</td>\n",
       "      <td>0.10530</td>\n",
       "      <td>78803.000000</td>\n",
       "    </tr>\n",
       "    <tr>\n",
       "      <th>4</th>\n",
       "      <td>Red</td>\n",
       "      <td>False</td>\n",
       "      <td>81.99</td>\n",
       "      <td>0.93490</td>\n",
       "      <td>95988.000000</td>\n",
       "    </tr>\n",
       "  </tbody>\n",
       "</table>\n",
       "</div>"
      ],
      "text/plain": [
       "    spalva kategorija  pirmas   antras       trecias\n",
       "0   Yellow      False   25.93  0.50493  43693.727273\n",
       "1     Pink      False   98.48  0.54480  10554.000000\n",
       "2  Crimson      False   74.56  0.77660  37659.000000\n",
       "3     Blue      False   10.07  0.10530  78803.000000\n",
       "4      Red      False   81.99  0.93490  95988.000000"
      ]
     },
     "execution_count": 77,
     "metadata": {},
     "output_type": "execute_result"
    }
   ],
   "source": [
    "df1.head()"
   ]
  },
  {
   "cell_type": "code",
   "execution_count": 78,
   "metadata": {},
   "outputs": [],
   "source": [
    "for col in ['spalva', 'kategorija']:\n",
    "    df1[col] = df1[col].cat.codes"
   ]
  },
  {
   "cell_type": "code",
   "execution_count": 82,
   "metadata": {},
   "outputs": [
    {
     "data": {
      "text/html": [
       "<div>\n",
       "<style scoped>\n",
       "    .dataframe tbody tr th:only-of-type {\n",
       "        vertical-align: middle;\n",
       "    }\n",
       "\n",
       "    .dataframe tbody tr th {\n",
       "        vertical-align: top;\n",
       "    }\n",
       "\n",
       "    .dataframe thead th {\n",
       "        text-align: right;\n",
       "    }\n",
       "</style>\n",
       "<table border=\"1\" class=\"dataframe\">\n",
       "  <thead>\n",
       "    <tr style=\"text-align: right;\">\n",
       "      <th></th>\n",
       "      <th>spalva</th>\n",
       "      <th>kategorija</th>\n",
       "      <th>pirmas</th>\n",
       "      <th>antras</th>\n",
       "      <th>trecias</th>\n",
       "    </tr>\n",
       "  </thead>\n",
       "  <tbody>\n",
       "    <tr>\n",
       "      <th>0</th>\n",
       "      <td>15</td>\n",
       "      <td>0</td>\n",
       "      <td>25.930000</td>\n",
       "      <td>0.50493</td>\n",
       "      <td>43693.727273</td>\n",
       "    </tr>\n",
       "    <tr>\n",
       "      <th>1</th>\n",
       "      <td>11</td>\n",
       "      <td>0</td>\n",
       "      <td>98.480000</td>\n",
       "      <td>0.54480</td>\n",
       "      <td>10554.000000</td>\n",
       "    </tr>\n",
       "    <tr>\n",
       "      <th>2</th>\n",
       "      <td>2</td>\n",
       "      <td>0</td>\n",
       "      <td>74.560000</td>\n",
       "      <td>0.77660</td>\n",
       "      <td>37659.000000</td>\n",
       "    </tr>\n",
       "    <tr>\n",
       "      <th>3</th>\n",
       "      <td>1</td>\n",
       "      <td>0</td>\n",
       "      <td>10.070000</td>\n",
       "      <td>0.10530</td>\n",
       "      <td>78803.000000</td>\n",
       "    </tr>\n",
       "    <tr>\n",
       "      <th>4</th>\n",
       "      <td>13</td>\n",
       "      <td>0</td>\n",
       "      <td>81.990000</td>\n",
       "      <td>0.93490</td>\n",
       "      <td>95988.000000</td>\n",
       "    </tr>\n",
       "    <tr>\n",
       "      <th>5</th>\n",
       "      <td>8</td>\n",
       "      <td>1</td>\n",
       "      <td>85.350000</td>\n",
       "      <td>0.03640</td>\n",
       "      <td>18650.000000</td>\n",
       "    </tr>\n",
       "    <tr>\n",
       "      <th>6</th>\n",
       "      <td>6</td>\n",
       "      <td>1</td>\n",
       "      <td>20.060000</td>\n",
       "      <td>0.65330</td>\n",
       "      <td>66677.000000</td>\n",
       "    </tr>\n",
       "    <tr>\n",
       "      <th>7</th>\n",
       "      <td>14</td>\n",
       "      <td>1</td>\n",
       "      <td>72.180000</td>\n",
       "      <td>0.16640</td>\n",
       "      <td>70275.000000</td>\n",
       "    </tr>\n",
       "    <tr>\n",
       "      <th>8</th>\n",
       "      <td>11</td>\n",
       "      <td>1</td>\n",
       "      <td>13.290000</td>\n",
       "      <td>0.01230</td>\n",
       "      <td>52276.000000</td>\n",
       "    </tr>\n",
       "    <tr>\n",
       "      <th>9</th>\n",
       "      <td>0</td>\n",
       "      <td>0</td>\n",
       "      <td>47.064565</td>\n",
       "      <td>0.32990</td>\n",
       "      <td>3344.000000</td>\n",
       "    </tr>\n",
       "    <tr>\n",
       "      <th>10</th>\n",
       "      <td>12</td>\n",
       "      <td>1</td>\n",
       "      <td>10.010000</td>\n",
       "      <td>0.05570</td>\n",
       "      <td>88254.000000</td>\n",
       "    </tr>\n",
       "    <tr>\n",
       "      <th>11</th>\n",
       "      <td>15</td>\n",
       "      <td>1</td>\n",
       "      <td>46.450000</td>\n",
       "      <td>0.50493</td>\n",
       "      <td>43693.727273</td>\n",
       "    </tr>\n",
       "    <tr>\n",
       "      <th>12</th>\n",
       "      <td>0</td>\n",
       "      <td>0</td>\n",
       "      <td>70.670000</td>\n",
       "      <td>0.64680</td>\n",
       "      <td>2872.000000</td>\n",
       "    </tr>\n",
       "    <tr>\n",
       "      <th>13</th>\n",
       "      <td>0</td>\n",
       "      <td>1</td>\n",
       "      <td>47.064565</td>\n",
       "      <td>0.49290</td>\n",
       "      <td>21490.000000</td>\n",
       "    </tr>\n",
       "    <tr>\n",
       "      <th>14</th>\n",
       "      <td>10</td>\n",
       "      <td>0</td>\n",
       "      <td>11.400000</td>\n",
       "      <td>0.50590</td>\n",
       "      <td>88751.000000</td>\n",
       "    </tr>\n",
       "  </tbody>\n",
       "</table>\n",
       "</div>"
      ],
      "text/plain": [
       "    spalva  kategorija     pirmas   antras       trecias\n",
       "0       15           0  25.930000  0.50493  43693.727273\n",
       "1       11           0  98.480000  0.54480  10554.000000\n",
       "2        2           0  74.560000  0.77660  37659.000000\n",
       "3        1           0  10.070000  0.10530  78803.000000\n",
       "4       13           0  81.990000  0.93490  95988.000000\n",
       "5        8           1  85.350000  0.03640  18650.000000\n",
       "6        6           1  20.060000  0.65330  66677.000000\n",
       "7       14           1  72.180000  0.16640  70275.000000\n",
       "8       11           1  13.290000  0.01230  52276.000000\n",
       "9        0           0  47.064565  0.32990   3344.000000\n",
       "10      12           1  10.010000  0.05570  88254.000000\n",
       "11      15           1  46.450000  0.50493  43693.727273\n",
       "12       0           0  70.670000  0.64680   2872.000000\n",
       "13       0           1  47.064565  0.49290  21490.000000\n",
       "14      10           0  11.400000  0.50590  88751.000000"
      ]
     },
     "execution_count": 82,
     "metadata": {},
     "output_type": "execute_result"
    }
   ],
   "source": [
    "df1.head(15)"
   ]
  },
  {
   "cell_type": "code",
   "execution_count": 83,
   "metadata": {},
   "outputs": [
    {
     "data": {
      "text/plain": [
       "spalva           int8\n",
       "kategorija       int8\n",
       "pirmas        float64\n",
       "antras        float64\n",
       "trecias       float64\n",
       "dtype: object"
      ]
     },
     "execution_count": 83,
     "metadata": {},
     "output_type": "execute_result"
    }
   ],
   "source": [
    "df1.dtypes"
   ]
  },
  {
   "cell_type": "markdown",
   "metadata": {},
   "source": [
    "### get dummies efektyviau"
   ]
  },
  {
   "cell_type": "markdown",
   "metadata": {},
   "source": [
    "grįžkime prie ankstesnio df:"
   ]
  },
  {
   "cell_type": "code",
   "execution_count": 86,
   "metadata": {},
   "outputs": [
    {
     "data": {
      "text/html": [
       "<div>\n",
       "<style scoped>\n",
       "    .dataframe tbody tr th:only-of-type {\n",
       "        vertical-align: middle;\n",
       "    }\n",
       "\n",
       "    .dataframe tbody tr th {\n",
       "        vertical-align: top;\n",
       "    }\n",
       "\n",
       "    .dataframe thead th {\n",
       "        text-align: right;\n",
       "    }\n",
       "</style>\n",
       "<table border=\"1\" class=\"dataframe\">\n",
       "  <thead>\n",
       "    <tr style=\"text-align: right;\">\n",
       "      <th></th>\n",
       "      <th>spalva</th>\n",
       "      <th>kategorija</th>\n",
       "      <th>pirmas</th>\n",
       "      <th>antras</th>\n",
       "      <th>trecias</th>\n",
       "    </tr>\n",
       "  </thead>\n",
       "  <tbody>\n",
       "    <tr>\n",
       "      <th>0</th>\n",
       "      <td>Yellow</td>\n",
       "      <td>False</td>\n",
       "      <td>25.93</td>\n",
       "      <td>0.50493</td>\n",
       "      <td>43693.727273</td>\n",
       "    </tr>\n",
       "    <tr>\n",
       "      <th>1</th>\n",
       "      <td>Pink</td>\n",
       "      <td>False</td>\n",
       "      <td>98.48</td>\n",
       "      <td>0.54480</td>\n",
       "      <td>10554.000000</td>\n",
       "    </tr>\n",
       "    <tr>\n",
       "      <th>2</th>\n",
       "      <td>Crimson</td>\n",
       "      <td>False</td>\n",
       "      <td>74.56</td>\n",
       "      <td>0.77660</td>\n",
       "      <td>37659.000000</td>\n",
       "    </tr>\n",
       "    <tr>\n",
       "      <th>3</th>\n",
       "      <td>Blue</td>\n",
       "      <td>False</td>\n",
       "      <td>10.07</td>\n",
       "      <td>0.10530</td>\n",
       "      <td>78803.000000</td>\n",
       "    </tr>\n",
       "    <tr>\n",
       "      <th>4</th>\n",
       "      <td>Red</td>\n",
       "      <td>False</td>\n",
       "      <td>81.99</td>\n",
       "      <td>0.93490</td>\n",
       "      <td>95988.000000</td>\n",
       "    </tr>\n",
       "  </tbody>\n",
       "</table>\n",
       "</div>"
      ],
      "text/plain": [
       "    spalva  kategorija  pirmas   antras       trecias\n",
       "0   Yellow       False   25.93  0.50493  43693.727273\n",
       "1     Pink       False   98.48  0.54480  10554.000000\n",
       "2  Crimson       False   74.56  0.77660  37659.000000\n",
       "3     Blue       False   10.07  0.10530  78803.000000\n",
       "4      Red       False   81.99  0.93490  95988.000000"
      ]
     },
     "execution_count": 86,
     "metadata": {},
     "output_type": "execute_result"
    }
   ],
   "source": [
    "df.head()"
   ]
  },
  {
   "cell_type": "code",
   "execution_count": 88,
   "metadata": {},
   "outputs": [],
   "source": [
    "df2 = pd.get_dummies(df, columns=['spalva', 'kategorija'])"
   ]
  },
  {
   "cell_type": "code",
   "execution_count": 89,
   "metadata": {},
   "outputs": [
    {
     "data": {
      "text/html": [
       "<div>\n",
       "<style scoped>\n",
       "    .dataframe tbody tr th:only-of-type {\n",
       "        vertical-align: middle;\n",
       "    }\n",
       "\n",
       "    .dataframe tbody tr th {\n",
       "        vertical-align: top;\n",
       "    }\n",
       "\n",
       "    .dataframe thead th {\n",
       "        text-align: right;\n",
       "    }\n",
       "</style>\n",
       "<table border=\"1\" class=\"dataframe\">\n",
       "  <thead>\n",
       "    <tr style=\"text-align: right;\">\n",
       "      <th></th>\n",
       "      <th>pirmas</th>\n",
       "      <th>antras</th>\n",
       "      <th>trecias</th>\n",
       "      <th>spalva_Aquamarine</th>\n",
       "      <th>spalva_Blue</th>\n",
       "      <th>spalva_Crimson</th>\n",
       "      <th>spalva_Fuscia</th>\n",
       "      <th>spalva_Goldenrod</th>\n",
       "      <th>spalva_Green</th>\n",
       "      <th>spalva_Indigo</th>\n",
       "      <th>...</th>\n",
       "      <th>spalva_Maroon</th>\n",
       "      <th>spalva_Mauv</th>\n",
       "      <th>spalva_Orange</th>\n",
       "      <th>spalva_Pink</th>\n",
       "      <th>spalva_Puce</th>\n",
       "      <th>spalva_Red</th>\n",
       "      <th>spalva_Violet</th>\n",
       "      <th>spalva_Yellow</th>\n",
       "      <th>kategorija_False</th>\n",
       "      <th>kategorija_True</th>\n",
       "    </tr>\n",
       "  </thead>\n",
       "  <tbody>\n",
       "    <tr>\n",
       "      <th>0</th>\n",
       "      <td>25.93</td>\n",
       "      <td>0.50493</td>\n",
       "      <td>43693.727273</td>\n",
       "      <td>0</td>\n",
       "      <td>0</td>\n",
       "      <td>0</td>\n",
       "      <td>0</td>\n",
       "      <td>0</td>\n",
       "      <td>0</td>\n",
       "      <td>0</td>\n",
       "      <td>...</td>\n",
       "      <td>0</td>\n",
       "      <td>0</td>\n",
       "      <td>0</td>\n",
       "      <td>0</td>\n",
       "      <td>0</td>\n",
       "      <td>0</td>\n",
       "      <td>0</td>\n",
       "      <td>1</td>\n",
       "      <td>1</td>\n",
       "      <td>0</td>\n",
       "    </tr>\n",
       "    <tr>\n",
       "      <th>1</th>\n",
       "      <td>98.48</td>\n",
       "      <td>0.54480</td>\n",
       "      <td>10554.000000</td>\n",
       "      <td>0</td>\n",
       "      <td>0</td>\n",
       "      <td>0</td>\n",
       "      <td>0</td>\n",
       "      <td>0</td>\n",
       "      <td>0</td>\n",
       "      <td>0</td>\n",
       "      <td>...</td>\n",
       "      <td>0</td>\n",
       "      <td>0</td>\n",
       "      <td>0</td>\n",
       "      <td>1</td>\n",
       "      <td>0</td>\n",
       "      <td>0</td>\n",
       "      <td>0</td>\n",
       "      <td>0</td>\n",
       "      <td>1</td>\n",
       "      <td>0</td>\n",
       "    </tr>\n",
       "    <tr>\n",
       "      <th>2</th>\n",
       "      <td>74.56</td>\n",
       "      <td>0.77660</td>\n",
       "      <td>37659.000000</td>\n",
       "      <td>0</td>\n",
       "      <td>0</td>\n",
       "      <td>1</td>\n",
       "      <td>0</td>\n",
       "      <td>0</td>\n",
       "      <td>0</td>\n",
       "      <td>0</td>\n",
       "      <td>...</td>\n",
       "      <td>0</td>\n",
       "      <td>0</td>\n",
       "      <td>0</td>\n",
       "      <td>0</td>\n",
       "      <td>0</td>\n",
       "      <td>0</td>\n",
       "      <td>0</td>\n",
       "      <td>0</td>\n",
       "      <td>1</td>\n",
       "      <td>0</td>\n",
       "    </tr>\n",
       "    <tr>\n",
       "      <th>3</th>\n",
       "      <td>10.07</td>\n",
       "      <td>0.10530</td>\n",
       "      <td>78803.000000</td>\n",
       "      <td>0</td>\n",
       "      <td>1</td>\n",
       "      <td>0</td>\n",
       "      <td>0</td>\n",
       "      <td>0</td>\n",
       "      <td>0</td>\n",
       "      <td>0</td>\n",
       "      <td>...</td>\n",
       "      <td>0</td>\n",
       "      <td>0</td>\n",
       "      <td>0</td>\n",
       "      <td>0</td>\n",
       "      <td>0</td>\n",
       "      <td>0</td>\n",
       "      <td>0</td>\n",
       "      <td>0</td>\n",
       "      <td>1</td>\n",
       "      <td>0</td>\n",
       "    </tr>\n",
       "    <tr>\n",
       "      <th>4</th>\n",
       "      <td>81.99</td>\n",
       "      <td>0.93490</td>\n",
       "      <td>95988.000000</td>\n",
       "      <td>0</td>\n",
       "      <td>0</td>\n",
       "      <td>0</td>\n",
       "      <td>0</td>\n",
       "      <td>0</td>\n",
       "      <td>0</td>\n",
       "      <td>0</td>\n",
       "      <td>...</td>\n",
       "      <td>0</td>\n",
       "      <td>0</td>\n",
       "      <td>0</td>\n",
       "      <td>0</td>\n",
       "      <td>0</td>\n",
       "      <td>1</td>\n",
       "      <td>0</td>\n",
       "      <td>0</td>\n",
       "      <td>1</td>\n",
       "      <td>0</td>\n",
       "    </tr>\n",
       "  </tbody>\n",
       "</table>\n",
       "<p>5 rows × 21 columns</p>\n",
       "</div>"
      ],
      "text/plain": [
       "   pirmas   antras       trecias  spalva_Aquamarine  spalva_Blue  \\\n",
       "0   25.93  0.50493  43693.727273                  0            0   \n",
       "1   98.48  0.54480  10554.000000                  0            0   \n",
       "2   74.56  0.77660  37659.000000                  0            0   \n",
       "3   10.07  0.10530  78803.000000                  0            1   \n",
       "4   81.99  0.93490  95988.000000                  0            0   \n",
       "\n",
       "   spalva_Crimson  spalva_Fuscia  spalva_Goldenrod  spalva_Green  \\\n",
       "0               0              0                 0             0   \n",
       "1               0              0                 0             0   \n",
       "2               1              0                 0             0   \n",
       "3               0              0                 0             0   \n",
       "4               0              0                 0             0   \n",
       "\n",
       "   spalva_Indigo  ...  spalva_Maroon  spalva_Mauv  spalva_Orange  spalva_Pink  \\\n",
       "0              0  ...              0            0              0            0   \n",
       "1              0  ...              0            0              0            1   \n",
       "2              0  ...              0            0              0            0   \n",
       "3              0  ...              0            0              0            0   \n",
       "4              0  ...              0            0              0            0   \n",
       "\n",
       "   spalva_Puce  spalva_Red  spalva_Violet  spalva_Yellow  kategorija_False  \\\n",
       "0            0           0              0              1                 1   \n",
       "1            0           0              0              0                 1   \n",
       "2            0           0              0              0                 1   \n",
       "3            0           0              0              0                 1   \n",
       "4            0           1              0              0                 1   \n",
       "\n",
       "   kategorija_True  \n",
       "0                0  \n",
       "1                0  \n",
       "2                0  \n",
       "3                0  \n",
       "4                0  \n",
       "\n",
       "[5 rows x 21 columns]"
      ]
     },
     "execution_count": 89,
     "metadata": {},
     "output_type": "execute_result"
    }
   ],
   "source": [
    "df2.head()"
   ]
  },
  {
   "cell_type": "code",
   "execution_count": 94,
   "metadata": {},
   "outputs": [
    {
     "name": "stdout",
     "output_type": "stream",
     "text": [
      "<class 'pandas.core.frame.DataFrame'>\n",
      "RangeIndex: 50 entries, 0 to 49\n",
      "Data columns (total 21 columns):\n",
      " #   Column             Non-Null Count  Dtype  \n",
      "---  ------             --------------  -----  \n",
      " 0   pirmas             50 non-null     float64\n",
      " 1   antras             50 non-null     float64\n",
      " 2   trecias            50 non-null     float64\n",
      " 3   spalva_Aquamarine  50 non-null     uint8  \n",
      " 4   spalva_Blue        50 non-null     uint8  \n",
      " 5   spalva_Crimson     50 non-null     uint8  \n",
      " 6   spalva_Fuscia      50 non-null     uint8  \n",
      " 7   spalva_Goldenrod   50 non-null     uint8  \n",
      " 8   spalva_Green       50 non-null     uint8  \n",
      " 9   spalva_Indigo      50 non-null     uint8  \n",
      " 10  spalva_Khaki       50 non-null     uint8  \n",
      " 11  spalva_Maroon      50 non-null     uint8  \n",
      " 12  spalva_Mauv        50 non-null     uint8  \n",
      " 13  spalva_Orange      50 non-null     uint8  \n",
      " 14  spalva_Pink        50 non-null     uint8  \n",
      " 15  spalva_Puce        50 non-null     uint8  \n",
      " 16  spalva_Red         50 non-null     uint8  \n",
      " 17  spalva_Violet      50 non-null     uint8  \n",
      " 18  spalva_Yellow      50 non-null     uint8  \n",
      " 19  kategorija_False   50 non-null     uint8  \n",
      " 20  kategorija_True    50 non-null     uint8  \n",
      "dtypes: float64(3), uint8(18)\n",
      "memory usage: 2.2 KB\n"
     ]
    }
   ],
   "source": [
    "df2.info()"
   ]
  },
  {
   "cell_type": "code",
   "execution_count": null,
   "metadata": {},
   "outputs": [],
   "source": []
  }
 ],
 "metadata": {
  "kernelspec": {
   "display_name": "Python 3",
   "language": "python",
   "name": "python3"
  },
  "language_info": {
   "codemirror_mode": {
    "name": "ipython",
    "version": 3
   },
   "file_extension": ".py",
   "mimetype": "text/x-python",
   "name": "python",
   "nbconvert_exporter": "python",
   "pygments_lexer": "ipython3",
   "version": "3.8.5"
  }
 },
 "nbformat": 4,
 "nbformat_minor": 4
}
