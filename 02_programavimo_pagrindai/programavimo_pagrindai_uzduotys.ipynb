{
 "cells": [
  {
   "cell_type": "code",
   "execution_count": 1,
   "metadata": {},
   "outputs": [
    {
     "name": "stdout",
     "output_type": "stream",
     "text": [
      "<class 'int'>\n",
      "<class 'float'>\n",
      "<class 'complex'>\n"
     ]
    }
   ],
   "source": [
    "# kintamieji 03\n",
    "\n",
    "a = 5\n",
    "b = 10.05\n",
    "c = 3 + 6j\n",
    "\n",
    "print(type(a))\n",
    "print(type(b))\n",
    "print(type(c))"
   ]
  },
  {
   "cell_type": "code",
   "execution_count": 4,
   "metadata": {},
   "outputs": [
    {
     "name": "stdout",
     "output_type": "stream",
     "text": [
      "24.130000000000003\n",
      "5.869999999999999\n",
      "136.95000000000002\n",
      "1.6429353778751368\n",
      "1.0\n",
      "1250.3535000000002\n"
     ]
    }
   ],
   "source": [
    "# matematiniai_operatorai\n",
    "\n",
    "#1 uzduotis 04\n",
    "\n",
    "x = 15\n",
    "y = 9.13\n",
    "z = 2 + 5j\n",
    "\n",
    "atsakymas1 = x + y\n",
    "print(atsakymas1)\n",
    "\n",
    "atsakymas2 = x - y\n",
    "print(atsakymas2)\n",
    "\n",
    "atsakymas3 = x * y\n",
    "print(atsakymas3)\n",
    "\n",
    "atsakymas4 = x / y\n",
    "print(atsakymas4)\n",
    "\n",
    "atsakymas5 = x // y\n",
    "print(atsakymas5)\n",
    "\n",
    "atsakymas6 = x * y * y\n",
    "print(atsakymas6)"
   ]
  },
  {
   "cell_type": "code",
   "execution_count": 6,
   "metadata": {},
   "outputs": [
    {
     "name": "stdout",
     "output_type": "stream",
     "text": [
      "(17+5j)\n",
      "(13-5j)\n",
      "(30+75j)\n",
      "(1.0344827586206897-2.586206896551724j)\n",
      "(-315+300j)\n"
     ]
    }
   ],
   "source": [
    "# uzduotis 2 04\n",
    "\n",
    "atsakymas1 = x + z\n",
    "print(atsakymas1)\n",
    "\n",
    "atsakymas2 = x - z\n",
    "print(atsakymas2)\n",
    "\n",
    "atsakymas3 = x * z\n",
    "print(atsakymas3)\n",
    "\n",
    "atsakymas4 = x / z\n",
    "print(atsakymas4)\n",
    "\n",
    "atsakymas6 = x * z * z\n",
    "print(atsakymas6)"
   ]
  },
  {
   "cell_type": "code",
   "execution_count": 8,
   "metadata": {},
   "outputs": [
    {
     "name": "stdout",
     "output_type": "stream",
     "text": [
      "7.0\n",
      "0.5\n"
     ]
    }
   ],
   "source": [
    "# 3 uzduotis 04\n",
    "\n",
    "a = 18\n",
    "b = 2.5\n",
    "\n",
    "atsakymas1 = a // b\n",
    "print(atsakymas1)\n",
    "\n",
    "atsakymas2 = a % b\n",
    "print(atsakymas2)"
   ]
  }
 ],
 "metadata": {
  "kernelspec": {
   "display_name": "venv",
   "language": "python",
   "name": "python3"
  },
  "language_info": {
   "codemirror_mode": {
    "name": "ipython",
    "version": 3
   },
   "file_extension": ".py",
   "mimetype": "text/x-python",
   "name": "python",
   "nbconvert_exporter": "python",
   "pygments_lexer": "ipython3",
   "version": "3.12.1"
  }
 },
 "nbformat": 4,
 "nbformat_minor": 2
}
