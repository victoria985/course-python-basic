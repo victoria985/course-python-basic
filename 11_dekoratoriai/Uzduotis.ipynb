{
 "cells": [
  {
   "cell_type": "code",
   "execution_count": 25,
   "metadata": {},
   "outputs": [
    {
     "name": "stdout",
     "output_type": "stream",
     "text": [
      "Mokinys: Donatas Zvirblis\n",
      "Dar mokinys\n",
      "Studentas: Simas Smitas\n",
      "Pilnametis\n",
      "Studente: Ula Smile\n",
      "Pilnametis\n"
     ]
    }
   ],
   "source": [
    "class Studentai:\n",
    "    def __init__(self, vardas, pavarde, amzius):\n",
    "        self.vardas = vardas\n",
    "        self.pavarde = pavarde\n",
    "        self.amzius = amzius\n",
    "\n",
    "    @property\n",
    "    def pilnas_vardas(self):\n",
    "        return f'{self.vardas} {self.pavarde}'\n",
    "\n",
    "    @staticmethod\n",
    "    def ar_pilnametis(amzius):\n",
    "        if amzius >= 18:\n",
    "            return 'Pilnametis'\n",
    "        elif amzius < 18:\n",
    "            return 'Dar mokinys'\n",
    "        else:\n",
    "            return 'Amzius neatitinka reikalavimu'\n",
    "\n",
    "    @classmethod\n",
    "    def sukurtas_studentas(cls, vardas: str, pavarde: str, amzius: int):\n",
    "        return cls(vardas, pavarde, amzius)\n",
    "    \n",
    "studentas1 = Studentai.sukurtas_studentas(\"Mokinys: Donatas\", \"Zvirblis\", 13)\n",
    "print(studentas1.pilnas_vardas)\n",
    "print(Studentai.ar_pilnametis(studentas1.amzius))\n",
    "\n",
    "studentas2 = Studentai.sukurtas_studentas(\"Studentas: Simas\", \"Smitas\", 23)\n",
    "print(studentas2.pilnas_vardas)\n",
    "print(Studentai.ar_pilnametis(studentas2.amzius))\n",
    "\n",
    "studentas3 = Studentai.sukurtas_studentas(\"Studente: Ula\", \"Smile\", 28)\n",
    "print(studentas3.pilnas_vardas)\n",
    "print(Studentai.ar_pilnametis(studentas3.amzius))\n",
    "\n"
   ]
  },
  {
   "cell_type": "code",
   "execution_count": 27,
   "metadata": {},
   "outputs": [
    {
     "name": "stdout",
     "output_type": "stream",
     "text": [
      "STUDENTAS, JONY IR JAM 25 METŲ\n"
     ]
    }
   ],
   "source": [
    "from functools import wraps\n",
    "\n",
    "def didziosios_raides(funkcija):\n",
    "    @wraps(funkcija)\n",
    "    def nauja_funkcija(*args, **kwargs):\n",
    "        \n",
    "        args = [str(arg).upper() for arg in args]\n",
    "        kwargs = {key: str(value).upper() for key, value in kwargs.items()}\n",
    "        \n",
    "        rezultatas = funkcija(*args, **kwargs)\n",
    "        \n",
    "        return str(rezultatas).upper()\n",
    "    \n",
    "    return nauja_funkcija\n",
    "\n",
    "@didziosios_raides\n",
    "def studento_informacija(vardas, amzius):\n",
    "    return f\"Studentas, {vardas} ir jam {amzius} metų\"\n",
    "\n",
    "print(studento_informacija(\"Jony\", amzius=25))\n"
   ]
  },
  {
   "cell_type": "code",
   "execution_count": 30,
   "metadata": {},
   "outputs": [
    {
     "name": "stdout",
     "output_type": "stream",
     "text": [
      "2\n",
      "3\n",
      "5\n",
      "7\n",
      "11\n",
      "13\n",
      "17\n",
      "19\n",
      "23\n",
      "29\n",
      "rask_pirminius_iki_limito užtruko 0.00043 sekundžių\n"
     ]
    }
   ],
   "source": [
    "from time import time\n",
    "\n",
    "def ar_pirminis(number):\n",
    "    if number < 2:\n",
    "        return False\n",
    "    for prime_number in range(2, int(number)):\n",
    "        if number % prime_number == 0:\n",
    "            return False\n",
    "    return True\n",
    "\n",
    "def pirminiai():\n",
    "    prime_number = 2\n",
    "    while True:\n",
    "        if ar_pirminis(prime_number):\n",
    "            yield prime_number\n",
    "        prime_number += 1\n",
    "\n",
    "\n",
    "def matavimo_dekoratorius(funkcija):\n",
    "    def wrapper(*args, **kwargs):\n",
    "        pradzios_laikas = time()\n",
    "        rezultatas = funkcija(*args, **kwargs)\n",
    "        pabaigos_laikas = time()\n",
    "        trukme = pabaigos_laikas - pradzios_laikas\n",
    "        print(f\"{funkcija.__name__} užtruko {trukme:.5f} sekundžių\")\n",
    "        return rezultatas\n",
    "    return wrapper\n",
    "\n",
    "@matavimo_dekoratorius\n",
    "def rask_pirminius_iki_limito(limitas):\n",
    "    pirminiai_gen = pirminiai()\n",
    "    for _ in range(limitas):\n",
    "        pirminis = next(pirminiai_gen)\n",
    "        print(pirminis)\n",
    "\n",
    "rask_pirminius_iki_limito(10)\n",
    "\n",
    "\n"
   ]
  }
 ],
 "metadata": {
  "kernelspec": {
   "display_name": "venv",
   "language": "python",
   "name": "python3"
  },
  "language_info": {
   "codemirror_mode": {
    "name": "ipython",
    "version": 3
   },
   "file_extension": ".py",
   "mimetype": "text/x-python",
   "name": "python",
   "nbconvert_exporter": "python",
   "pygments_lexer": "ipython3",
   "version": "3.12.1"
  }
 },
 "nbformat": 4,
 "nbformat_minor": 2
}
