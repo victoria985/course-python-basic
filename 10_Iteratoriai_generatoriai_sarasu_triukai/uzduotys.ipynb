{
 "cells": [
  {
   "cell_type": "code",
   "execution_count": 6,
   "metadata": {},
   "outputs": [
    {
     "name": "stdout",
     "output_type": "stream",
     "text": [
      "<filter object at 0x000001C134DEE020> <map object at 0x000001C134E09B40>\n"
     ]
    }
   ],
   "source": [
    "sarasas = [33, 8, 67, 9, 58, 1]\n",
    "\n",
    "rezultatas1 = filter(lambda x: x > 10, sarasas )\n",
    "rezultatas2 = map(lambda x: x * 2, sarasas)\n",
    "print(rezultatas1, rezultatas2)\n"
   ]
  },
  {
   "cell_type": "code",
   "execution_count": 9,
   "metadata": {},
   "outputs": [
    {
     "name": "stdout",
     "output_type": "stream",
     "text": [
      "[66, 134, 116]\n"
     ]
    }
   ],
   "source": [
    "rezultatas = map(lambda x: x * 2, filter(lambda x: x > 10, sarasas))\n",
    "print(list(rezultatas))"
   ]
  },
  {
   "cell_type": "code",
   "execution_count": 10,
   "metadata": {},
   "outputs": [
    {
     "name": "stdout",
     "output_type": "stream",
     "text": [
      "176\n"
     ]
    }
   ],
   "source": [
    "from functools import reduce\n",
    "import operator\n",
    "\n",
    "sandauga = reduce(lambda x, y: x + y, sarasas)\n",
    "print(sandauga)\n"
   ]
  },
  {
   "cell_type": "code",
   "execution_count": 11,
   "metadata": {},
   "outputs": [
    {
     "name": "stdout",
     "output_type": "stream",
     "text": [
      "176\n",
      "67\n",
      "1\n",
      "29.333333333333332\n",
      "21.0\n"
     ]
    }
   ],
   "source": [
    "import statistics\n",
    "\n",
    "print(sum(sarasas))\n",
    "print(max(sarasas))\n",
    "print(min(sarasas))\n",
    "print(statistics.mean(sarasas))\n",
    "print(statistics.median(sarasas))"
   ]
  },
  {
   "cell_type": "code",
   "execution_count": 16,
   "metadata": {},
   "outputs": [
    {
     "name": "stdout",
     "output_type": "stream",
     "text": [
      "[33, 9, 67, 58, 1, 8]\n"
     ]
    }
   ],
   "source": [
    "sarasas = sorted(sarasas, key=lambda x: x % 3)\n",
    "print(sarasas)"
   ]
  },
  {
   "cell_type": "code",
   "execution_count": 25,
   "metadata": {},
   "outputs": [
    {
     "name": "stdout",
     "output_type": "stream",
     "text": [
      "33.0\n"
     ]
    }
   ],
   "source": [
    "lyginiai_skaiciai = list(filter(lambda x: x % 2 == 0, sarasas))\n",
    "vidurkis = reduce(lambda x, y: x + y, lyginiai_skaiciai) / len(lyginiai_skaiciai)\n",
    "print(vidurkis)"
   ]
  }
 ],
 "metadata": {
  "kernelspec": {
   "display_name": "venv",
   "language": "python",
   "name": "python3"
  },
  "language_info": {
   "codemirror_mode": {
    "name": "ipython",
    "version": 3
   },
   "file_extension": ".py",
   "mimetype": "text/x-python",
   "name": "python",
   "nbconvert_exporter": "python",
   "pygments_lexer": "ipython3",
   "version": "3.12.1"
  }
 },
 "nbformat": 4,
 "nbformat_minor": 2
}
