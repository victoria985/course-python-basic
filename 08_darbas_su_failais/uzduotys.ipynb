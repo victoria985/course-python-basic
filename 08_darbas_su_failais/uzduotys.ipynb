{
 "cells": [
  {
   "cell_type": "code",
   "execution_count": 3,
   "metadata": {},
   "outputs": [
    {
     "name": "stdout",
     "output_type": "stream",
     "text": [
      "kALNAI, kALNAI, sAULE, VANDUO!\n",
      " Kalnai, Kalnai, Saule, vanduo!\n"
     ]
    }
   ],
   "source": [
    "with open('tekstas.txt', 'r') as file:\n",
    "    eilute1 = file.readline()\n",
    "    nauja_eilute1 = eilute1.swapcase()\n",
    "    eilute2 = file.readline()\n",
    "    nauja_eilute2 = eilute2.swapcase()\n",
    "    print(nauja_eilute1, nauja_eilute2)\n"
   ]
  },
  {
   "cell_type": "code",
   "execution_count": 15,
   "metadata": {},
   "outputs": [],
   "source": [
    "\n",
    "\n",
    "with open('skaiciai.txt', 'w') as file:\n",
    "    for skaicius in range (1, 100):\n",
    "        file.write(f'{skaicius}\\n')\n"
   ]
  },
  {
   "cell_type": "code",
   "execution_count": 24,
   "metadata": {},
   "outputs": [
    {
     "name": "stdout",
     "output_type": "stream",
     "text": [
      "\n",
      "Kaip šermukšnio uogą,\n",
      "Kaip rožės lapelį,\n",
      "Kaip aušros spindulėlį?\n"
     ]
    }
   ],
   "source": [
    "with open('tekstas.txt', 'r', encoding='utf-8') as file:\n",
    "    file.seek(75)\n",
    "    content = file.read()\n",
    "    print(content)\n"
   ]
  },
  {
   "cell_type": "code",
   "execution_count": null,
   "metadata": {},
   "outputs": [],
   "source": []
  },
  {
   "cell_type": "code",
   "execution_count": 5,
   "metadata": {},
   "outputs": [
    {
     "name": "stdout",
     "output_type": "stream",
     "text": [
      "Katalogas 'Mano katalogas' sukurtas.\n"
     ]
    }
   ],
   "source": [
    "import os\n",
    "\n",
    "katalogo_kelias = 'Mano katalogas'\n",
    "if not os.path.exists(katalogo_kelias):\n",
    "    os.makedirs(katalogo_kelias)\n",
    "    print(f\"Katalogas '{katalogo_kelias}' sukurtas.\")\n",
    "else:\n",
    "    print(f\"Katalogas '{katalogo_kelias}' jau egzistoja.\")"
   ]
  },
  {
   "cell_type": "code",
   "execution_count": 6,
   "metadata": {},
   "outputs": [
    {
     "name": "stdout",
     "output_type": "stream",
     "text": [
      "Katalogo turinys:\n",
      "01_failu_skaitymas_rasymas.md\n",
      "02_json_biblioteka.md\n",
      "03_os_modulis.md\n",
      "04_binary_zymes.md\n",
      "05_pickle_biblioteka.md\n",
      "Mano katalogas\n",
      "skaiciai.txt\n",
      "tekstas.txt\n",
      "uzduotys.ipynb\n"
     ]
    }
   ],
   "source": [
    "katalogo_kelias = \".\"\n",
    "turinys = os.listdir(katalogo_kelias)\n",
    "\n",
    "print(\"Katalogo turinys:\")\n",
    "for elementas in turinys:\n",
    "    print(elementas)"
   ]
  },
  {
   "cell_type": "code",
   "execution_count": 15,
   "metadata": {},
   "outputs": [
    {
     "name": "stdout",
     "output_type": "stream",
     "text": [
      "Failas 'tekstas1.txt' nera tuscias\n"
     ]
    }
   ],
   "source": [
    "failo_kelias = 'tekstas1.txt'\n",
    "\n",
    "\n",
    "if os.path.exists(failo_kelias):\n",
    "    os.remove(failo_kelias)\n",
    "    print(f\"Failas '{failo_kelias}' yra istrintas.\")\n",
    "else:\n",
    "    print(f\"Failas '{failo_kelias}' nera tuscias\")\n",
    " "
   ]
  }
 ],
 "metadata": {
  "kernelspec": {
   "display_name": "venv",
   "language": "python",
   "name": "python3"
  },
  "language_info": {
   "codemirror_mode": {
    "name": "ipython",
    "version": 3
   },
   "file_extension": ".py",
   "mimetype": "text/x-python",
   "name": "python",
   "nbconvert_exporter": "python",
   "pygments_lexer": "ipython3",
   "version": "3.12.1"
  }
 },
 "nbformat": 4,
 "nbformat_minor": 2
}
