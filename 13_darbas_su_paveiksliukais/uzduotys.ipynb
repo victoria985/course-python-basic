{
 "cells": [
  {
   "cell_type": "code",
   "execution_count": 1,
   "metadata": {},
   "outputs": [],
   "source": [
    "from PIL import Image\n",
    "\n",
    "image = Image.open('Blue Butterfly.jpg')\n",
    "width, height = (128, 128)\n",
    "new_size = (width, height)\n",
    "resized_image = image.resize(new_size)\n",
    "resized_image.save('Blue Butterfly.jpg_resized.jpg')"
   ]
  },
  {
   "cell_type": "code",
   "execution_count": 3,
   "metadata": {},
   "outputs": [],
   "source": [
    "image = Image.open(\"Blue Butterfly.jpg\")\n",
    "thumbnail_size = (width, height)\n",
    "image.thumbnail(thumbnail_size)\n",
    "image.save(\"Blue Butterfly_thumbnail.jpg\")"
   ]
  },
  {
   "cell_type": "code",
   "execution_count": 5,
   "metadata": {},
   "outputs": [],
   "source": [
    "def split_and_merge(image):\n",
    "    image_r, image_g, image_b = image.split()\n",
    "    merged_image = Image.merge('RGB', (image_r, image_g, image_b))\n",
    "    return merged_image\n",
    "\n",
    "image = Image.open(\"Blue Butterfly.jpg\")\n",
    "merged_image = split_and_merge(image)\n",
    "merged_image.save(\"Blue Butterfly_merged.jpg\")"
   ]
  },
  {
   "cell_type": "code",
   "execution_count": 14,
   "metadata": {},
   "outputs": [],
   "source": [
    "def image_split(image):\n",
    "    image_r, image_g, image_b = image.split()\n",
    "    return  image_r, image_g, image_b \n",
    "\n",
    "image = Image.open('Blue Butterfly.jpg')\n",
    "\n",
    "image_r, image_g, image_b = image_split(image)\n",
    "\n",
    "image_r.save(\"Blue Butterfly_R.jpg\")\n",
    "image_g.save(\"Blue Butterfly_G.jpg\")\n",
    "image_b.save(\"Blue Butterfly_B.jpg\")\n"
   ]
  },
  {
   "cell_type": "code",
   "execution_count": 26,
   "metadata": {},
   "outputs": [],
   "source": [
    "from PIL import Image\n",
    "\n",
    "def uzdeti_logo(image_k, logo_k, save_new_image):\n",
    "\n",
    "    Blue_Butterfly = Image.open(image_k)\n",
    "    logo_zmb = Image.open(logo_k)\n",
    "\n",
    "    logo_zmb_dydis = (100, 100)\n",
    "    logo_k = logo_zmb.resize(logo_zmb_dydis)\n",
    "\n",
    "    pozicija = (Blue_Butterfly.width - logo_k.width - 10, Blue_Butterfly.height - logo_k.height - 10)\n",
    "    logo_mask = logo_k.convert(\"L\")\n",
    "    Blue_Butterfly.paste(logo_k, pozicija, logo_mask)\n",
    "\n",
    "\n",
    "    if save_new_image:\n",
    "        Blue_Butterfly.save('new_Blue_Butterfly.png')\n",
    "\n",
    "    Blue_Butterfly.show()\n",
    "\n",
    "uzdeti_logo(\"Blue_Butterfly.jpg\", \"logo_zmb.png\", save_new_image=True)\n",
    "\n",
    "    "
   ]
  }
 ],
 "metadata": {
  "kernelspec": {
   "display_name": "venv",
   "language": "python",
   "name": "python3"
  },
  "language_info": {
   "codemirror_mode": {
    "name": "ipython",
    "version": 3
   },
   "file_extension": ".py",
   "mimetype": "text/x-python",
   "name": "python",
   "nbconvert_exporter": "python",
   "pygments_lexer": "ipython3",
   "version": "3.12.1"
  }
 },
 "nbformat": 4,
 "nbformat_minor": 2
}
